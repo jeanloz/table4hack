{
 "cells": [
  {
   "cell_type": "code",
   "execution_count": 8,
   "metadata": {},
   "outputs": [
    {
     "name": "stdout",
     "output_type": "stream",
     "text": [
      "Creating project...\n"
     ]
    }
   ],
   "source": [
    "from azure.cognitiveservices.vision.customvision.training import training_api\n",
    "from azure.cognitiveservices.vision.customvision.training.models import ImageUrlCreateEntry\n",
    "\n",
    "# Replace with a valid key\n",
    "training_key = \"5c3d93078f114d54a9bfc635d5c91fed\"\n",
    "prediction_key = \"bf415a8cfb3743d7b458b57fc67bba13\"\n",
    "\n",
    "trainer = training_api.TrainingApi(training_key)\n",
    "\n",
    "# Create a new project\n",
    "print (\"Creating project...\")\n",
    "project = trainer.create_project(\"Table4Challenge1\")"
   ]
  },
  {
   "cell_type": "code",
   "execution_count": 9,
   "metadata": {},
   "outputs": [],
   "source": [
    "# Make two tags in the new project\n",
    "hardshell_jacket_tag = trainer.create_tag(project.id, \"hardshell jacket\")\n",
    "insulated_jacket_tag = trainer.create_tag(project.id, \"insulated jacket\")"
   ]
  },
  {
   "cell_type": "code",
   "execution_count": 11,
   "metadata": {},
   "outputs": [
    {
     "name": "stdout",
     "output_type": "stream",
     "text": [
      "Adding images...\n",
      "All done!\n"
     ]
    }
   ],
   "source": [
    "base_image_url = \"https://52.175.195.236:8000/user/hacker1/tree/gear_images/\"\n",
    "from pathlib import Path\n",
    "\n",
    "\n",
    "print (\"Adding images...\")\n",
    "# for image_num in range(1,10):\n",
    "#     image_url = base_image_url + \"hardshell_jackets/_{}.jpg\".format(image_num)\n",
    "#     trainer.create_images_from_urls(project.id, [ ImageUrlCreateEntry(url=image_url, tag_ids=[ hardshell_jackets_tag.id ] ) ])\n",
    "\n",
    "# for image_num in range(1,10):\n",
    "#     image_url = base_image_url + \"insulated_jackets/_{}.jpg\".format(image_num)\n",
    "#     trainer.create_images_from_urls(project.id, [ ImageUrlCreateEntry(url=image_url, tag_ids=[ insulated_jackets_tag.id ] ) ])\n",
    "\n",
    "\n",
    "# Alternatively, if the images were on disk in a folder called Images alongside the sample.py, then\n",
    "# they can be added by using the following:\n",
    "\n",
    "import os\n",
    "hardshell_jackets_dir = \"/home/hacker1/notebooks/gear_images/hardshell_jackets\"\n",
    "for image in os.listdir(os.fsencode(hardshell_jackets_dir)):\n",
    "   with open(hardshell_jackets_dir + \"/\" + os.fsdecode(image), mode=\"rb\") as img_data: \n",
    "       trainer.create_images_from_data(project.id, img_data, [ hardshell_jacket_tag.id ])\n",
    "\n",
    "insulated_jackets_dir = \"/home/hacker1/notebooks/gear_images/insulated_jackets\"\n",
    "for image in os.listdir(os.fsencode(insulated_jackets_dir)):\n",
    "   with open(insulated_jackets_dir + \"/\" + os.fsdecode(image), mode=\"rb\") as img_data: \n",
    "       trainer.create_images_from_data(project.id, img_data, [ insulated_jacket_tag.id ])\n",
    "        \n",
    "print(\"All done!\")"
   ]
  },
  {
   "cell_type": "code",
   "execution_count": 12,
   "metadata": {},
   "outputs": [
    {
     "name": "stdout",
     "output_type": "stream",
     "text": [
      "Training...\n",
      "Training status: Training\n",
      "Training status: Training\n",
      "Training status: Training\n",
      "Training status: Training\n",
      "Training status: Training\n",
      "Training status: Training\n",
      "Training status: Training\n",
      "Training status: Training\n",
      "Training status: Training\n",
      "Training status: Training\n",
      "Training status: Training\n",
      "Training status: Training\n",
      "Training status: Training\n",
      "Training status: Completed\n",
      "Done!\n"
     ]
    }
   ],
   "source": [
    "import time\n",
    "\n",
    "print (\"Training...\")\n",
    "iteration = trainer.train_project(project.id)\n",
    "while (iteration.status != \"Completed\"):\n",
    "    iteration = trainer.get_iteration(project.id, iteration.id)\n",
    "    print (\"Training status: \" + iteration.status)\n",
    "    time.sleep(1)\n",
    "\n",
    "# The iteration is now trained. Make it the default project endpoint\n",
    "trainer.update_iteration(project.id, iteration.id, is_default=True)\n",
    "print (\"Done!\")"
   ]
  },
  {
   "cell_type": "code",
   "execution_count": 16,
   "metadata": {},
   "outputs": [
    {
     "name": "stdout",
     "output_type": "stream",
     "text": [
      "start\n",
      "<azure.cognitiveservices.vision.customvision.prediction.prediction_endpoint.PredictionEndpoint object at 0x7feaa5d956d8>\n",
      "\tinsulated jacket: 100.00%\n",
      "\thardshell jacket: 0.00%\n"
     ]
    }
   ],
   "source": [
    "from azure.cognitiveservices.vision.customvision.prediction import prediction_endpoint\n",
    "from azure.cognitiveservices.vision.customvision.prediction.prediction_endpoint import models\n",
    "\n",
    "# Now there is a trained endpoint that can be used to make a prediction\n",
    "print(\"start\")\n",
    "predictor = prediction_endpoint.PredictionEndpoint(prediction_key)\n",
    "print(predictor)\n",
    "\n",
    "test_img_url = \"https://encrypted-tbn0.gstatic.com/images?q=tbn:ANd9GcSBOn_VN4eCj3JFgmzlDNm2oLmFCo6Agn9-eeHx330FLnsHG6nS\"\n",
    "results = predictor.predict_image_url(project.id, iteration.id, url=test_img_url)\n",
    "\n",
    "# Alternatively, if the images were on disk in a folder called Images alongside the sample.py, then\n",
    "# they can be added by using the following.\n",
    "#\n",
    "# Open the sample image and get back the prediction results.\n",
    "# with open(\"Images\\\\test\\\\test_image.jpg\", mode=\"rb\") as test_data:\n",
    "#     results = predictor.predict_image(project.id, test_data, iteration.id)\n",
    "\n",
    "# Display the results.\n",
    "for prediction in results.predictions:\n",
    "    print (\"\\t\" + prediction.tag_name + \": {0:.2f}%\".format(prediction.probability * 100))"
   ]
  },
  {
   "cell_type": "code",
   "execution_count": 20,
   "metadata": {},
   "outputs": [],
   "source": []
  },
  {
   "cell_type": "code",
   "execution_count": null,
   "metadata": {},
   "outputs": [],
   "source": []
  }
 ],
 "metadata": {
  "kernelspec": {
   "display_name": "Python 3",
   "language": "python",
   "name": "python3"
  },
  "language_info": {
   "codemirror_mode": {
    "name": "ipython",
    "version": 3
   },
   "file_extension": ".py",
   "mimetype": "text/x-python",
   "name": "python",
   "nbconvert_exporter": "python",
   "pygments_lexer": "ipython3",
   "version": "3.5.5"
  }
 },
 "nbformat": 4,
 "nbformat_minor": 2
}
