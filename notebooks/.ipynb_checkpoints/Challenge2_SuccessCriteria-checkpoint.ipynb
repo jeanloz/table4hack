{
 "cells": [
  {
   "cell_type": "code",
   "execution_count": null,
   "metadata": {},
   "outputs": [],
   "source": [
    "import cv2\n",
    "import numpy as np\n",
    "from matplotlib import pyplot as plt\n",
    "\n",
    "img = cv2.imread('gear_images/hardshell_jackets/104837.jpeg')\n",
    "cv2.imshow('Original',img)\n",
    "hist = cv2.calcHist([img],[0],None,[256],[0,256])\n",
    "plt.hist(img.ravel(),256,[0,256])\n",
    "plt.title('Original')\n",
    "plt.show()\n",
    "\n",
    "img = cv2.imread('gear_images_converted/hardshell_jackets/104837.jpeg')\n",
    "cv2.imshow('Converted',img)\n",
    "hist = cv2.calcHist([img],[0],None,[256],[0,256])\n",
    "plt.hist(img.ravel(),256,[0,256])\n",
    "plt.title('Converted')\n",
    "plt.show()\n"
   ]
  },
  {
   "cell_type": "code",
   "execution_count": null,
   "metadata": {},
   "outputs": [],
   "source": []
  },
  {
   "cell_type": "code",
   "execution_count": null,
   "metadata": {},
   "outputs": [],
   "source": []
  }
 ],
 "metadata": {
  "kernelspec": {
   "display_name": "Python 3",
   "language": "python",
   "name": "python3"
  },
  "language_info": {
   "codemirror_mode": {
    "name": "ipython",
    "version": 3
   },
   "file_extension": ".py",
   "mimetype": "text/x-python",
   "name": "python",
   "nbconvert_exporter": "python",
   "pygments_lexer": "ipython3",
   "version": "3.5.5"
  }
 },
 "nbformat": 4,
 "nbformat_minor": 2
}
