{
 "cells": [
  {
   "cell_type": "code",
   "execution_count": 8,
   "metadata": {},
   "outputs": [
    {
     "name": "stdout",
     "output_type": "stream",
     "text": [
      "Creating project...\n"
     ]
    }
   ],
   "source": [
    "from azure.cognitiveservices.vision.customvision.training import training_api\n",
    "from azure.cognitiveservices.vision.customvision.training.models import ImageUrlCreateEntry\n",
    "\n",
    "# Replace with a valid key\n",
    "training_key = \"5c3d93078f114d54a9bfc635d5c91fed\"\n",
    "prediction_key = \"bf415a8cfb3743d7b458b57fc67bba13\"\n",
    "\n",
    "trainer = training_api.TrainingApi(training_key)\n",
    "\n",
    "# Create a new project\n",
    "print (\"Creating project...\")\n",
    "project = trainer.create_project(\"Table4Challenge1\")"
   ]
  },
  {
   "cell_type": "code",
   "execution_count": 9,
   "metadata": {},
   "outputs": [],
   "source": [
    "# Make two tags in the new project\n",
    "hardshell_jacket_tag = trainer.create_tag(project.id, \"hardshell jacket\")\n",
    "insulated_jacket_tag = trainer.create_tag(project.id, \"insulated jacket\")"
   ]
  },
  {
   "cell_type": "code",
   "execution_count": 11,
   "metadata": {},
   "outputs": [
    {
     "name": "stdout",
     "output_type": "stream",
     "text": [
      "Adding images...\n",
      "All done!\n"
     ]
    }
   ],
   "source": [
    "base_image_url = \"https://52.175.195.236:8000/user/hacker1/tree/gear_images/\"\n",
    "from pathlib import Path\n",
    "\n",
    "\n",
    "print (\"Adding images...\")\n",
    "# for image_num in range(1,10):\n",
    "#     image_url = base_image_url + \"hardshell_jackets/_{}.jpg\".format(image_num)\n",
    "#     trainer.create_images_from_urls(project.id, [ ImageUrlCreateEntry(url=image_url, tag_ids=[ hardshell_jackets_tag.id ] ) ])\n",
    "\n",
    "# for image_num in range(1,10):\n",
    "#     image_url = base_image_url + \"insulated_jackets/_{}.jpg\".format(image_num)\n",
    "#     trainer.create_images_from_urls(project.id, [ ImageUrlCreateEntry(url=image_url, tag_ids=[ insulated_jackets_tag.id ] ) ])\n",
    "\n",
    "\n",
    "# Alternatively, if the images were on disk in a folder called Images alongside the sample.py, then\n",
    "# they can be added by using the following:\n",
    "\n",
    "import os\n",
    "hardshell_jackets_dir = \"/home/hacker1/notebooks/gear_images/hardshell_jackets\"\n",
    "for image in os.listdir(os.fsencode(hardshell_jackets_dir)):\n",
    "   with open(hardshell_jackets_dir + \"/\" + os.fsdecode(image), mode=\"rb\") as img_data: \n",
    "       trainer.create_images_from_data(project.id, img_data, [ hardshell_jacket_tag.id ])\n",
    "\n",
    "insulated_jackets_dir = \"/home/hacker1/notebooks/gear_images/insulated_jackets\"\n",
    "for image in os.listdir(os.fsencode(insulated_jackets_dir)):\n",
    "   with open(insulated_jackets_dir + \"/\" + os.fsdecode(image), mode=\"rb\") as img_data: \n",
    "       trainer.create_images_from_data(project.id, img_data, [ insulated_jacket_tag.id ])\n",
    "        \n",
    "print(\"All done!\")"
   ]
  },
  {
   "cell_type": "code",
   "execution_count": 12,
   "metadata": {},
   "outputs": [
    {
     "name": "stdout",
     "output_type": "stream",
     "text": [
      "Training...\n",
      "Training status: Training\n",
      "Training status: Training\n",
      "Training status: Training\n",
      "Training status: Training\n",
      "Training status: Training\n",
      "Training status: Training\n",
      "Training status: Training\n",
      "Training status: Training\n",
      "Training status: Training\n",
      "Training status: Training\n",
      "Training status: Training\n",
      "Training status: Training\n",
      "Training status: Training\n",
      "Training status: Completed\n",
      "Done!\n"
     ]
    }
   ],
   "source": [
    "import time\n",
    "\n",
    "print (\"Training...\")\n",
    "iteration = trainer.train_project(project.id)\n",
    "while (iteration.status != \"Completed\"):\n",
    "    iteration = trainer.get_iteration(project.id, iteration.id)\n",
    "    print (\"Training status: \" + iteration.status)\n",
    "    time.sleep(1)\n",
    "\n",
    "# The iteration is now trained. Make it the default project endpoint\n",
    "trainer.update_iteration(project.id, iteration.id, is_default=True)\n",
    "print (\"Done!\")"
   ]
  },
  {
   "cell_type": "code",
   "execution_count": null,
   "metadata": {},
   "outputs": [],
   "source": [
    "from azure.cognitiveservices.vision.customvision.prediction import prediction_endpoint\n",
    "from azure.cognitiveservices.vision.customvision.prediction.prediction_endpoint import models\n",
    "\n",
    "# Now there is a trained endpoint that can be used to make a prediction\n",
    "\n",
    "predictor = prediction_endpoint.PredictionEndpoint(prediction_key)\n",
    "print(predictor)\n",
    "\n",
    "test_img_url = \"data:image/jpeg;base64,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\"\n",
    "results = predictor.predict_image_url(project.id, iteration.id, url=test_img_url)\n",
    "\n",
    "# Alternatively, if the images were on disk in a folder called Images alongside the sample.py, then\n",
    "# they can be added by using the following.\n",
    "#\n",
    "# Open the sample image and get back the prediction results.\n",
    "# with open(\"Images\\\\test\\\\test_image.jpg\", mode=\"rb\") as test_data:\n",
    "#     results = predictor.predict_image(project.id, test_data, iteration.id)\n",
    "\n",
    "# Display the results.\n",
    "for prediction in results.predictions:\n",
    "    print (\"\\t\" + prediction.tag_name + \": {0:.2f}%\".format(prediction.probability * 100))"
   ]
  }
 ],
 "metadata": {
  "kernelspec": {
   "display_name": "Python 3",
   "language": "python",
   "name": "python3"
  },
  "language_info": {
   "codemirror_mode": {
    "name": "ipython",
    "version": 3
   },
   "file_extension": ".py",
   "mimetype": "text/x-python",
   "name": "python",
   "nbconvert_exporter": "python",
   "pygments_lexer": "ipython3",
   "version": "3.5.5"
  }
 },
 "nbformat": 4,
 "nbformat_minor": 2
}
