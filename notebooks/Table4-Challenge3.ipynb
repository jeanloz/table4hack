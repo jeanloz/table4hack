{
 "cells": [
  {
   "cell_type": "code",
   "execution_count": 146,
   "metadata": {},
   "outputs": [],
   "source": [
    "import cv2\n",
    "import numpy as np\n",
    "from sklearn import svm\n",
    "from sklearn.svm import SVC\n",
    "from sklearn import linear_model\n",
    "from sklearn.model_selection import train_test_split\n",
    "from sklearn.metrics import accuracy_score\n",
    "from sklearn.cluster import KMeans\n",
    "from sklearn.neighbors import NearestNeighbors\n",
    "from sklearn.neighbors import KNeighborsClassifier\n",
    "import os\n",
    "\n",
    "\n",
    "\n",
    "#pre_processed_img_dir='gear_images_converted/'\n",
    "#pre_processed_label_dir= 'gear_labels_converted/'\n",
    "\n",
    "pre_processed_img_dir = 'gear_images_converted'\n",
    "pre_processed_label_dir = 'gear_labels_converted'\n",
    "\n",
    "label_dict={'axes':0,'boots':1,'carabiners':2,'crampons':3,'gloves':4,'hardshell_jackets':5,'harnesses':6,'helmets':7\n",
    "           ,'insulated_jackets':8,'pulleys':9,'rope':10,'tents':11}"
   ]
  },
  {
   "cell_type": "code",
   "execution_count": 147,
   "metadata": {},
   "outputs": [],
   "source": [
    "def create_labels():\n",
    "    for subdir,dirs, files in os.walk(pre_processed_img_dir):\n",
    "    #print(dirs)\n",
    "        for dir in dirs:\n",
    "            if not os.path.exists(pre_processed_label_dir+'/'+dir): \n",
    "                os.makedirs(pre_processed_label_dir+'/'+dir )\n",
    "            \n",
    "            for file in os.listdir(pre_processed_img_dir+dir):\n",
    "                f= open(pre_processed_label_dir+'/'+dir+'/'+file+'.txt',\"w+\")\n",
    "                f.write(dir.replace('_',' '))\n"
   ]
  },
  {
   "cell_type": "code",
   "execution_count": 153,
   "metadata": {},
   "outputs": [],
   "source": [
    "def train(x,y):\n",
    "\n",
    "    #clf = svm.SVC(gamma='scale', decision_function_shape='ovo')\n",
    "    #clf = SVC(gamma='auto')\n",
    "    \n",
    "    #clf = linear_model.SGDClassifier(max_iter=400)\n",
    "    #clf.fit(x,y)\n",
    "    clf=KNeighborsClassifier(n_neighbors=3)\n",
    "    clf=clf.fit(x,y)\n",
    "\n",
    "    return clf"
   ]
  },
  {
   "cell_type": "code",
   "execution_count": 154,
   "metadata": {},
   "outputs": [],
   "source": [
    "\n",
    "def predict(clf,img):\n",
    "    return(clf.predict(img))\n"
   ]
  },
  {
   "cell_type": "code",
   "execution_count": null,
   "metadata": {},
   "outputs": [],
   "source": []
  },
  {
   "cell_type": "code",
   "execution_count": 155,
   "metadata": {},
   "outputs": [
    {
     "name": "stdout",
     "output_type": "stream",
     "text": [
      "(2122, 49152)\n",
      "(2122,)\n"
     ]
    }
   ],
   "source": [
    "\n",
    "added_img_array= []\n",
    "added_label_array= []\n",
    "for subdir, dirs, files in os.walk(pre_processed_img_dir):\n",
    "\n",
    "    for dir in dirs:\n",
    "\n",
    "        for file in os.listdir(pre_processed_img_dir + '/' + dir):\n",
    "\n",
    "            img_array = cv2.imread(pre_processed_img_dir + '/' + dir + '/' + file)\n",
    "\n",
    "            label_array=label_dict[dir]\n",
    "            added_img_array.append(img_array)\n",
    "            added_label_array.append(label_array)\n",
    "\n",
    "\n",
    "added_label_array_array=np.delete(added_label_array,0)\n",
    "added_label_array = np.asarray(added_label_array)\n",
    "added_img_array = np.concatenate([arr[np.newaxis] for arr in added_img_array])\n",
    "added_img_array = np.reshape(added_img_array, (added_img_array.shape[0], -1))\n",
    "\n",
    "print(added_img_array.shape)\n",
    "print(added_label_array.shape)\n",
    "\n",
    "added_img_array=added_img_array.astype(float)\n",
    "added_label_array=added_label_array.astype(float)\n",
    "\n"
   ]
  },
  {
   "cell_type": "code",
   "execution_count": 156,
   "metadata": {},
   "outputs": [],
   "source": [
    "added_label_array=np.transpose(added_label_array)\n",
    "X_train, X_test, y_train, y_test = train_test_split(added_img_array, added_label_array, test_size=0.33, random_state=42)\n",
    "\n",
    "clf = train(X_train,y_train)\n"
   ]
  },
  {
   "cell_type": "code",
   "execution_count": 157,
   "metadata": {},
   "outputs": [
    {
     "name": "stdout",
     "output_type": "stream",
     "text": [
      "0.8145506419400856\n"
     ]
    }
   ],
   "source": [
    "truth=y_test.tolist()\n",
    "results=[]\n",
    "for x in X_test:\n",
    "    result = predict(clf,x.reshape(1, -1))\n",
    "    results.append(result)\n",
    "\n",
    "print(accuracy_score(truth, results))\n"
   ]
  },
  {
   "cell_type": "code",
   "execution_count": 161,
   "metadata": {},
   "outputs": [
    {
     "name": "stdout",
     "output_type": "stream",
     "text": [
      "(128, 384)\n",
      "[7.]\n"
     ]
    }
   ],
   "source": [
    "testing_dir='challenge3-testimg_converted.jpeg'\n",
    "testing_arr = cv2.imread(testing_dir)\n",
    "testing_arr = np.reshape(testing_arr, (testing_arr.shape[0], -1))\n",
    "print(testing_arr.shape)\n",
    "res = predict(clf,testing_arr.reshape(1,-1))\n",
    "print(res)"
   ]
  },
  {
   "cell_type": "code",
   "execution_count": null,
   "metadata": {},
   "outputs": [],
   "source": []
  }
 ],
 "metadata": {
  "kernelspec": {
   "display_name": "Python 3",
   "language": "python",
   "name": "python3"
  },
  "language_info": {
   "codemirror_mode": {
    "name": "ipython",
    "version": 3
   },
   "file_extension": ".py",
   "mimetype": "text/x-python",
   "name": "python",
   "nbconvert_exporter": "python",
   "pygments_lexer": "ipython3",
   "version": "3.5.5"
  }
 },
 "nbformat": 4,
 "nbformat_minor": 2
}
