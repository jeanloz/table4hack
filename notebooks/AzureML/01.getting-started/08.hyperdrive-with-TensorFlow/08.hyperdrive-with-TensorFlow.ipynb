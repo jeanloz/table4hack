{
 "cells": [
  {
   "cell_type": "markdown",
   "metadata": {},
   "source": [
    "Copyright (c) Microsoft Corporation. All rights reserved.\n",
    "\n",
    "Licensed under the MIT License."
   ]
  },
  {
   "cell_type": "markdown",
   "metadata": {},
   "source": [
    "# Training and Hyperparameter Tuning of a TensorFlow Model"
   ]
  },
  {
   "cell_type": "markdown",
   "metadata": {},
   "source": [
    "In this tutorial, we demonstrate how to use the Azure ML Python SDK to train a Convolutional Neural Network (CNN) in TensorFlow to perform handwritten digit recognition on the popular MNIST dataset. We will demonstrate how to perform hyperparameter tuning of the model using AML's HyperDrive service.   \n",
    "\n",
    "We will cover the following concepts:\n",
    "* Create a Batch AI GPU cluster\n",
    "* (To do): DataStore\n",
    "* Train a TensorFlow model on a single node\n",
    "* Logging metrics to Run History\n",
    "* Set up a hyperparameter sweep with HyperDrive\n",
    "* Select the best model for download"
   ]
  },
  {
   "cell_type": "markdown",
   "metadata": {},
   "source": [
    "## Prerequisites\n",
    "Make sure you go through the [00. Installation and Configuration](00.configuration.ipynb) Notebook first if you haven't. In addition, to run through this notebook, you will need to install a few additional packages by running `pip install pillow tensorflow matplotlib pandas tqdm`\n",
    "\n",
    "### Authorize Hyperdrive Service Principal\n",
    "\n",
    "Hyperdrive service is in preview so you need to explicitly grant permissions. In Azure portal, add `vienna-test-westus` as a `Contributor` to your resource group. Or, you can also do this from azure-cli:\n",
    "```sh\n",
    "# find the ARM id of your resource group. Copy into memory.\n",
    "$ az group show -n <rg_name> -o json\n",
    "\n",
    "# check if https://vienna-test-westus-cluster.sp.azureml.net is a Contributor.\n",
    "$ az role assignment list --scope <rg_arm_id> -o table\n",
    "\n",
    "# if not, add it. you will need to be a resource group owner to do this.\n",
    "$ az role assignment create --role Contributor --scope <rg_arm_id> --assignee https://vienna-test-westus-cluster.sp.azureml.net\n",
    "```"
   ]
  },
  {
   "cell_type": "markdown",
   "metadata": {},
   "source": [
    "## 1. Set Up a Workspace\n",
    "Workspace is the top-level Azure Resource for Azure ML services."
   ]
  },
  {
   "cell_type": "code",
   "execution_count": null,
   "metadata": {},
   "outputs": [],
   "source": [
    "# Check core SDK version number\n",
    "import azureml.core\n",
    "\n",
    "print(\"SDK version:\", azureml.core.VERSION)"
   ]
  },
  {
   "cell_type": "code",
   "execution_count": null,
   "metadata": {
    "tags": [
     "create workspace"
    ]
   },
   "outputs": [],
   "source": [
    "import os\n",
    "\n",
    "from azureml.core import Workspace\n",
    "\n",
    "ws = Workspace.from_config()\n",
    "print(ws.name, ws.resource_group, ws.location, ws.subscription_id, sep = '\\n')"
   ]
  },
  {
   "cell_type": "markdown",
   "metadata": {},
   "source": [
    "## Create An Experiment\n",
    "**Experiment** is a logical container in an Azure ML Workspace. It hosts run records which can include run metrics and output artifacts from your experiments."
   ]
  },
  {
   "cell_type": "code",
   "execution_count": null,
   "metadata": {},
   "outputs": [],
   "source": [
    "from azureml.core import Experiment\n",
    "experiment_name = 'hyperdrive-with-tf'\n",
    "experiment = Experiment(workspace = ws, name = experiment_name)"
   ]
  },
  {
   "cell_type": "markdown",
   "metadata": {},
   "source": [
    "Create a folder to store the training script."
   ]
  },
  {
   "cell_type": "code",
   "execution_count": null,
   "metadata": {},
   "outputs": [],
   "source": [
    "import os\n",
    "script_folder = './samples/hyperdrive-with-tf'\n",
    "os.makedirs(script_folder, exist_ok = True)"
   ]
  },
  {
   "cell_type": "markdown",
   "metadata": {},
   "source": [
    "## 2. Provision a New Batch AI Cluster\n",
    "Training machine learning models is often a compute-intensive process. Azure's [Batch AI](#https://docs.microsoft.com/en-us/azure/batch-ai/overview) service allows data scientists to leverage the power of compute clusters of CPU or GPU-enabled VMs for training their models. Using the Python SDK, we can easily provision a Batch AI cluster with the specifications we want."
   ]
  },
  {
   "cell_type": "code",
   "execution_count": null,
   "metadata": {
    "tags": [
     "create mlc",
     "batchai"
    ]
   },
   "outputs": [],
   "source": [
    "from azureml.core.compute import BatchAiCompute\n",
    "from azureml.core.compute import ComputeTarget\n",
    "\n",
    "# choose a name for your cluster\n",
    "batchai_cluster_name = ws.name + \"gpu\"\n",
    "\n",
    "found = False\n",
    "# see if this compute target already exists in the workspace\n",
    "for ct in ws.compute_targets():\n",
    "    print(ct.name, ct.type)\n",
    "    if ct.name == batchai_cluster_name and type(ct) is BatchAiCompute:\n",
    "        found = True\n",
    "        print('found compute target. just use it.')\n",
    "        compute_target = ct\n",
    "        break\n",
    "        \n",
    "if not found:\n",
    "    print('creating a new compute target...')\n",
    "    provisioning_config = BatchAiCompute.provisioning_configuration(vm_size = \"STANDARD_NC6\", # NC6 is GPU-enabled\n",
    "                                                                #vm_priority = 'lowpriority', # optional\n",
    "                                                                autoscale_enabled = True,\n",
    "                                                                cluster_min_nodes = 1, \n",
    "                                                                cluster_max_nodes = 4)\n",
    "\n",
    "    # create the cluster\n",
    "    compute_target = ComputeTarget.create(ws, batchai_cluster_name, provisioning_config)\n",
    "    \n",
    "    # can poll for a minimum number of nodes and for a specific timeout. \n",
    "    # if no min node count is provided it will use the scale settings for the cluster\n",
    "    compute_target.wait_for_completion(show_output=True, min_node_count=None, timeout_in_minutes=20)\n",
    "    \n",
    "     # For a more detailed view of current BatchAI cluster status, use the 'status' property    \n",
    "    print(compute_target.status.serialize())"
   ]
  },
  {
   "cell_type": "markdown",
   "metadata": {},
   "source": [
    "Here, we specify the following parameters for the `provisioning_config`:\n",
    "* `vm_size`: the family and size of the VM to use. For this tutorial we want to leverage GPU nodes, so we specify the `STANDARD_NC6` VM, which has one NVIDIA K80 GPU\n",
    "* `vm_priority`: `'lowpriority'` or `'dedicated'`\n",
    "* `autoscale_enabled`: with autoscaling set to `True`, Batch AI will automatically resize the cluster based on the demands of your workload. Default is `False`, will create a cluster with a fixed # of nodes\n",
    "* `cluster_min_nodes`: minimum number of VMs for autoscaling\n",
    "* `cluster_max_nodes`: maximum number of VMs for autoscaling"
   ]
  },
  {
   "cell_type": "markdown",
   "metadata": {},
   "source": [
    "## 3. Train TensorFlow MNIST\n",
    "Now let's train a CNN on the MNIST dataset for predicting handwritten digits. The training script `tf_mnist_train.py` is adapted from TensorFlow's [MNIST](#https://www.tensorflow.org/versions/r1.4/get_started/mnist/pros) tutorial. The changes to the original on concerned logging some metrics about the training run to the AML run history. See the adapted file here: [tf_mnist_train.py](tf_mnist_train.py) -- search for 'run_logger' to find the added lines of code."
   ]
  },
  {
   "cell_type": "code",
   "execution_count": null,
   "metadata": {},
   "outputs": [],
   "source": [
    "from shutil import copyfile\n",
    "\n",
    "training_script = 'tf_mnist_train.py'\n",
    "# copy the mnist_tf.py file to the project folder\n",
    "copyfile(training_script, os.path.join(script_folder, training_script))"
   ]
  },
  {
   "cell_type": "code",
   "execution_count": null,
   "metadata": {},
   "outputs": [],
   "source": [
    "# take a look at the training script\n",
    "!more $training_script"
   ]
  },
  {
   "cell_type": "markdown",
   "metadata": {},
   "source": [
    "### a. Run a single-node TensorFlow experiment"
   ]
  },
  {
   "cell_type": "markdown",
   "metadata": {},
   "source": [
    "To facilitate ML training, the Python SDK provides a high-level abstraction called Estimators that allows users to train CNTK, TensorFlow, or custom scripts in the Azure ML ecosystem. Let's instantiate an AML TensorFlow Estimator (not to be conflated with the [`tf.estimator.Estimator`](#https://www.tensorflow.org/programmers_guide/estimators) class)."
   ]
  },
  {
   "cell_type": "code",
   "execution_count": null,
   "metadata": {
    "tags": [
     "configure run",
     "tensorflow"
    ]
   },
   "outputs": [],
   "source": [
    "from azureml.train.dnn import TensorFlow\n",
    "\n",
    "script_params = {\n",
    "    '--minibatch_size': 64,\n",
    "    '--learning_rate': 0.001,\n",
    "    '--keep_probability': 0.5,\n",
    "    '--output_dir': 'outputs',\n",
    "    '--num_iterations': 1000\n",
    "}\n",
    "\n",
    "tf_estimator = TensorFlow(source_directory = script_folder, \n",
    "                          script_params = script_params, \n",
    "                          compute_target = compute_target, \n",
    "                          entry_script = training_script, \n",
    "                          node_count = 1,\n",
    "                          use_gpu = True)"
   ]
  },
  {
   "cell_type": "markdown",
   "metadata": {},
   "source": [
    "We specify the following parameters to the TensorFlow constructor:\n",
    "* `script_params`: a dictionary specifying the command-line arguments to your `entry_script`\n",
    "* `compute_target`: the compute target object. Can be a local, DSVM, or Batch AI compute target\n",
    "* `entry_script`: the relative(?) path to the project directory of the file to be executed during training\n",
    "* `node_count`: the number of nodes to use for the training job. Defaults to `1`\n",
    "* `use_gpu`: to leverage the GPU for training, set this flag to `True`. Defaults to `False`"
   ]
  },
  {
   "cell_type": "markdown",
   "metadata": {},
   "source": [
    "** Note on `outputs` folder: **\n",
    "\n",
    "When running an experiment using the Python SDK, you can write files out to a folder named `outputs` that is relative to the root directory. This folder is specially tracked by AML in the sense that any files written to that folder during script execution will be picked up by Run History; these files (known as *artifacts*) will be available as part of the run history record."
   ]
  },
  {
   "cell_type": "code",
   "execution_count": null,
   "metadata": {
    "tags": [
     "remote run",
     "batchai",
     "tensorflow"
    ]
   },
   "outputs": [],
   "source": [
    "run = experiment.submit(tf_estimator)"
   ]
  },
  {
   "cell_type": "markdown",
   "metadata": {},
   "source": [
    "### b. Monitoring the training run\n",
    "There are several ways with which the user can monitor the details and status of the training run. "
   ]
  },
  {
   "cell_type": "markdown",
   "metadata": {},
   "source": [
    "Browse to the run history report (use Chrome please, for now)"
   ]
  },
  {
   "cell_type": "code",
   "execution_count": null,
   "metadata": {
    "tags": [
     "query history"
    ]
   },
   "outputs": [],
   "source": [
    "run"
   ]
  },
  {
   "cell_type": "markdown",
   "metadata": {},
   "source": [
    "Print out the current run status"
   ]
  },
  {
   "cell_type": "markdown",
   "metadata": {},
   "source": [
    "You can also use a widget to monitor the progress of your submitted run, which allows you to do so without blocking your notebook execution:"
   ]
  },
  {
   "cell_type": "code",
   "execution_count": null,
   "metadata": {
    "tags": [
     "use notebook widget"
    ]
   },
   "outputs": [],
   "source": [
    "from azureml.train.widgets import RunDetails\n",
    "\n",
    "RunDetails(run).show()"
   ]
  },
  {
   "cell_type": "markdown",
   "metadata": {},
   "source": [
    "![img](../images/hd_tf1.png)"
   ]
  },
  {
   "cell_type": "code",
   "execution_count": null,
   "metadata": {
    "tags": [
     "remote run",
     "batchai",
     "tensorflow"
    ]
   },
   "outputs": [],
   "source": [
    "# to block and wait for training to complete \n",
    "run.wait_for_completion(show_output = True)"
   ]
  },
  {
   "cell_type": "markdown",
   "metadata": {},
   "source": [
    "You can also check on the Batch AI cluster and job status using `az-cli` commands:\n",
    "```shell\n",
    "# check cluster status. You can see how many nodes are running.\n",
    "$ az batchai cluster list\n",
    "\n",
    "# check job status. You can see how many jobs are running\n",
    "$ az batchai job list\n",
    "```"
   ]
  },
  {
   "cell_type": "markdown",
   "metadata": {},
   "source": [
    "### c. Log metrics to Run History\n",
    "\n",
    "Another useful feature of the Python SDK is the ability to log metrics for each run. These metrics are persisted in the run history by AML. In addition, they are automatically displayed and visualized by the RunDetails widget. (Logging run metrics is also required in order to use the HyperDrive service, which we will go over in more detail in section 4.)"
   ]
  },
  {
   "cell_type": "markdown",
   "metadata": {},
   "source": [
    "The below code snippet from `tf_mnist_train.py` shows how we can we log the script parameters for a training run, by specifying a key for the metric and the corresponding value:\n",
    "```python\n",
    "from azureml.core.run import Run\n",
    "\n",
    "run_logger = Run.get_submitted_run()\n",
    "run_logger.log(\"learning_rate\", args.learning_rate)\n",
    "run_logger.log(\"minibatch_size\", args.minibatch_size)\n",
    "run_logger.log(\"keep_probability\", args.keep_probability)\n",
    "run_logger.log(\"num_iterations\", args.num_iterations)\n",
    "```"
   ]
  },
  {
   "cell_type": "code",
   "execution_count": null,
   "metadata": {
    "tags": [
     "get metrics"
    ]
   },
   "outputs": [],
   "source": [
    "run.get_metrics()"
   ]
  },
  {
   "cell_type": "markdown",
   "metadata": {},
   "source": [
    "## 4. Hyperparameter Tuning with HyperDrive\n",
    "\n",
    "Now that we've seen how to do a simple TensorFlow training run using the Python SDK, let's see if we can further improve the accuracy of our model.\n",
    "\n",
    "Hyperparameter tuning is a key part of machine learning experimentation, in which the data scientist tries different configurations of hyperparameters in order to find a set of values that optimizes a specific target metric, such as the accuracy of the model. To this end, Azure ML provides the ** HyperDrive service ** to faciliate the hyperparameter tuning process. "
   ]
  },
  {
   "cell_type": "markdown",
   "metadata": {},
   "source": [
    "### a. Start a HyperDrive run\n",
    "\n",
    "Using HyperDrive, we specify the hyperparameter space to sweep over, the primary metric to optimize, and an early termination policy. HyperDrive will kick off multiple children runs with different hyperparameter configurations, and terminate underperforming runs according to the early termination policy provided."
   ]
  },
  {
   "cell_type": "code",
   "execution_count": null,
   "metadata": {
    "tags": [
     "configure run",
     "tensorflow"
    ]
   },
   "outputs": [],
   "source": [
    "from azureml.train.hyperdrive import *\n",
    "\n",
    "param_sampling = RandomParameterSampling( {\n",
    "        \"learning_rate\": loguniform(-10, -3),\n",
    "        \"keep_probability\": uniform(0.5, 0.1)\n",
    "    }\n",
    ")\n",
    "\n",
    "early_termination_policy = BanditPolicy(slack_factor = 0.15, evaluation_interval=2)\n",
    "\n",
    "hyperdrive_run_config = HyperDriveRunConfig(estimator = tf_estimator, \n",
    "                                           hyperparameter_sampling = param_sampling, \n",
    "                                           policy = early_termination_policy,\n",
    "                                           primary_metric_name = \"Accuracy\",\n",
    "                                           primary_metric_goal = PrimaryMetricGoal.MAXIMIZE,\n",
    "                                           max_total_runs = 20,\n",
    "                                           max_concurrent_runs = 4)"
   ]
  },
  {
   "cell_type": "markdown",
   "metadata": {},
   "source": [
    "In the above cell, we first define a sampling space for the hyperparameters we want to sweep over, specifically the `learning_rate` and `keep_probability`. In this case we are using `RandomParameterSampling`, which allows us to specify the parameter values as either a choice among discrete values or as a distribution over a continuous range (here, we are using a uniform distribution for the `keep_probability`). You can run `help(RandomParameterSampling)` for more API details on this class.\n",
    "\n",
    "Then, we specify the early termination policy to use. If not specified, the policy defaults (?) to `None`, in which case all training runs are run to completion. Here we use the `BanditPolicy`, which will terminate any run that doesn't fall within the slack factor of our primary evaluation metric. Run `help(BanditPolicy)` for more details on this policy.\n",
    "\n",
    "To do: explain `evaluation_interval` within context of our training script.\n",
    "\n",
    "We specify the following parameters to the `HyperDriveRunConfig` constructor:\n",
    "* explain input_paths?\n",
    "* `estimator`: the estimator that will be called with the sampled hyperparameters\n",
    "* `hyperparameter_sampling`: the sampling space to use\n",
    "* `policy`: the early termination policy\n",
    "* `primary_metric_name`: the name of the metric logged to the AML Run that HyperDrive will use to evaluate runs. Here, we are using the test accuracy (logged as 'Accuracy' in our training script)\n",
    "* `primary_metric_goal`: the optimization goal of the primary metric (either `PrimaryMetricGoal.MAXIMIZE` or `PrimaryMetricGoal.MINIMIZE`)\n",
    "* `max_total_runs`: the maximum number of runs HyperDrive will kick off\n",
    "* `max_concurrent_runs`: the maximum number of runs to run concurrently\n",
    "* `compute_target`: the compute target. In our case, the Batch AI cluster we provisioned"
   ]
  },
  {
   "cell_type": "markdown",
   "metadata": {},
   "source": [
    "** Note on logging metrics for HyperDrive: **  \n",
    "\n",
    "In order to use HyperDrive, we will need to log the metric we want the service to use for evaluating run performance (`primary_metric_name`). In our script, we will use the accuracy of the model evaluated on the MNIST test dataset as our primary metric. For every 100 training iterations, we calculate and log this test accuracy (`'Accuracy'`). We also log an additional utility metric, `'Iterations'`, to inform us of the number of iterations the model was trained on that corresponds to each Accuracy metric logged (see `tf_mnist.py` for more details). This is useful for seeing how many iterations were trained for jobs that were terminated early.\n",
    "\n",
    "```python\n",
    "run_logger.log(\"Accuracy\", float(test_acc))\n",
    "run_logger.log(\"Iterations\", i)\n",
    "```"
   ]
  },
  {
   "cell_type": "code",
   "execution_count": null,
   "metadata": {
    "tags": [
     "hyperdrive run",
     "batchai",
     "tensorflow"
    ]
   },
   "outputs": [],
   "source": [
    "# start the HyperDrive run\n",
    "hyperdrive_run = experiment.submit(hyperdrive_run_config)"
   ]
  },
  {
   "cell_type": "code",
   "execution_count": null,
   "metadata": {
    "tags": [
     "query history"
    ]
   },
   "outputs": [],
   "source": [
    "run"
   ]
  },
  {
   "cell_type": "markdown",
   "metadata": {},
   "source": [
    "### b. Use a widget to visualize details of the HyperDrive runs\n",
    "\n",
    "Runs will automatically start to show in the following widget once rendered."
   ]
  },
  {
   "cell_type": "code",
   "execution_count": null,
   "metadata": {
    "tags": [
     "use notebook widget"
    ]
   },
   "outputs": [],
   "source": [
    "from azureml.train.widgets import RunDetails\n",
    "\n",
    "RunDetails(hyperdrive_run).show()"
   ]
  },
  {
   "cell_type": "markdown",
   "metadata": {},
   "source": [
    "![img](../images/hd_tf2.png)"
   ]
  },
  {
   "cell_type": "code",
   "execution_count": null,
   "metadata": {},
   "outputs": [],
   "source": [
    "# check cluster status, pay attention to the # of running nodes\n",
    "# !az batchai cluster list -o table"
   ]
  },
  {
   "cell_type": "code",
   "execution_count": null,
   "metadata": {},
   "outputs": [],
   "source": [
    "# check the Batch AI job queue. Notice the Job name is the run history ID. \n",
    "# Pay attention to the state of the job.\n",
    "# !az batchai job list -o table"
   ]
  },
  {
   "cell_type": "markdown",
   "metadata": {},
   "source": [
    "### c. Find the best run\n",
    "\n",
    "Once all of the HyperDrive runs have completed, we can find the run that achieved the highest accuracy and its corresponding hyperparameters."
   ]
  },
  {
   "cell_type": "code",
   "execution_count": null,
   "metadata": {},
   "outputs": [],
   "source": [
    "run.wait_for_completion(show_output = True)"
   ]
  },
  {
   "cell_type": "code",
   "execution_count": null,
   "metadata": {
    "tags": [
     "query history",
     "get metrics"
    ]
   },
   "outputs": [],
   "source": [
    "table = helpers.ListTable()\n",
    "from tqdm import tqdm\n",
    "\n",
    "run_metrics = {}\n",
    "table.append(['Accuracy', 'Run', 'Iterations', 'learning_rate', 'keep_probability'])\n",
    "for run in tqdm(hyperdrive_run.get_children()):\n",
    "    metrics = run.get_metrics()\n",
    "    if 'Accuracy' in metrics.keys():\n",
    "        metrics['Accuracy'] = metrics['Accuracy'][-1] # final test accuracy\n",
    "        metrics['Iterations'] = max(metrics['Iterations']) # number of iterations the run ran for\n",
    "        \n",
    "        table.append([metrics['Accuracy'], \n",
    "                      run.id, \n",
    "                      metrics['Iterations'], \n",
    "                      metrics['learning_rate'], \n",
    "                      metrics['keep_probability']])\n",
    "        run_metrics[run.id] = metrics\n",
    "table"
   ]
  },
  {
   "cell_type": "code",
   "execution_count": null,
   "metadata": {
    "tags": [
     "query history"
    ]
   },
   "outputs": [],
   "source": [
    "from azureml.core.run import Run\n",
    "\n",
    "best_run_id = max(run_metrics, key = lambda k: run_metrics[k]['Accuracy'])\n",
    "best_run_metrics = run_metrics[best_run_id]\n",
    "experiment = Experiment(ws, experiment_name)\n",
    "best_run = Run(experiment, best_run_id)\n",
    "\n",
    "print('Best Run is:\\n  Accuracy: {0:.6f} \\n  Learning rate: {1:.6f} \\n  Keep probability: {2}'.format(\n",
    "        best_run_metrics['Accuracy'],\n",
    "        best_run_metrics['learning_rate'],\n",
    "        best_run_metrics['keep_probability']\n",
    "    ))\n",
    "\n",
    "print(helpers.get_run_history_url(best_run))"
   ]
  },
  {
   "cell_type": "markdown",
   "metadata": {},
   "source": [
    "### Plot the runs [Optional] \n",
    "Note you will need to install `matplotlib` for this."
   ]
  },
  {
   "cell_type": "code",
   "execution_count": null,
   "metadata": {},
   "outputs": [],
   "source": [
    "%matplotlib inline\n",
    "\n",
    "import numpy as np\n",
    "import matplotlib.pyplot as plt\n",
    "\n",
    "plot_data = np.array([[run_metrics[i]['keep_probability'], \n",
    "                       run_metrics[i]['learning_rate'], \n",
    "                       run_metrics[i]['Accuracy']] for i in run_metrics.keys()])\n",
    "area = np.array([[run_metrics[i]['Iterations']/5] for i in run_metrics.keys()])\n",
    "\n",
    "plt.figure(figsize = (15,5))\n",
    "plt.scatter(plot_data[:,0], plot_data[:,1], s = area, c = plot_data[:,2], alpha = 0.4)\n",
    "plt.xlabel(\"keep_probability\")\n",
    "plt.ylabel(\"learning_rate\")\n",
    "plt.yscale('log')\n",
    "plt.ylim(0.00001,0.06)\n",
    "plt.colorbar()\n",
    "plt.clim(0.95, max(plot_data[:,2]))\n",
    "plt.show()"
   ]
  },
  {
   "cell_type": "markdown",
   "metadata": {},
   "source": [
    "### d. Download model from the best run\n",
    "Once we've identified the best run from HyperDrive, we can download the model files to our local machine.  \n",
    "\n",
    "The final trained model checkpoint files are located in the `outputs` directory picked up by AML. We can run the below line of code to confirm that those files are present:"
   ]
  },
  {
   "cell_type": "code",
   "execution_count": null,
   "metadata": {
    "tags": [
     "query history"
    ]
   },
   "outputs": [],
   "source": [
    "best_run.get_file_names()"
   ]
  },
  {
   "cell_type": "markdown",
   "metadata": {},
   "source": [
    "Finally, we can download the relevant checkpoint files. Note there is currently a bug on uploading files when executing on Batch AI cluster so the below code doesn't work yet."
   ]
  },
  {
   "cell_type": "code",
   "execution_count": null,
   "metadata": {
    "tags": [
     "download file"
    ]
   },
   "outputs": [],
   "source": [
    "import os\n",
    "output_dir = 'outputs'\n",
    "target_dir =  os.path.join('sample_projects', 'outputs')\n",
    "model_files_to_download = ['checkpoint', 'model.ckpt.data-00000-of-00001', 'model.ckpt.index', 'model.ckpt.meta']\n",
    "for file in model_files_to_download:\n",
    "    model_src_path = os.path.join(output_dir, file)\n",
    "    model_dest_path = os.path.join(target_dir, file)\n",
    "    print('downloading ' + file)\n",
    "    best_run.download_file(name = model_src_path, output_file_path = model_dest_path)"
   ]
  },
  {
   "cell_type": "markdown",
   "metadata": {},
   "source": [
    "### e. Test the model locally\n",
    "Now that we have downloaded the best-performing model, we can use it locally to score images of hand-written digits. For this we have prepared a scoring file [tf_mnist_score.py](tf_mnist_score.py) which we import below. tf_mnist_score.py provides a function `run(input_data)` which accepts a base64-encoded image in a JSON dict format (this format is friendly for the deployment of a webservice, which we will do later). \n",
    "\n",
    "Note that this scoring code requires tensorflow and PIL (`pip install tensorflow pillow`).\n",
    "\n",
    "First, we will create a base64-encoded image in a json structure based on one of the test images provided in the folder `mnist_test_images`:"
   ]
  },
  {
   "cell_type": "code",
   "execution_count": null,
   "metadata": {},
   "outputs": [],
   "source": [
    "import os, json, base64\n",
    "from PIL import Image \n",
    "import tf_mnist_score\n",
    "from io import BytesIO\n",
    "\n",
    "def imgToBase64(img):\n",
    "    imgio = BytesIO()\n",
    "    img.save(imgio, 'JPEG')\n",
    "    img_str = base64.b64encode(imgio.getvalue())\n",
    "    return img_str.decode('utf-8')\n",
    "\n",
    "# Generate JSON Base64-encoded image from sample test input\n",
    "test_img_path = os.path.join('mnist_test_images', 'img_3.jpg')\n",
    "base64Img = imgToBase64(Image.open(test_img_path))\n",
    "data = json.dumps({'data': base64Img})\n",
    "print(data)"
   ]
  },
  {
   "cell_type": "markdown",
   "metadata": {},
   "source": [
    "Then we will call `tf_mnist_score.run()` with the json data structure we created above. And we draw the image that we are scoring, so we can compare the label returned by the image with the acutual handwritten digit."
   ]
  },
  {
   "cell_type": "code",
   "execution_count": null,
   "metadata": {},
   "outputs": [],
   "source": [
    "from IPython.display import Image as IPImage\n",
    "tf_mnist_score.init()\n",
    "result = tf_mnist_score.run(data)\n",
    "print(result)\n",
    "IPImage(filename=test_img_path, width=200)"
   ]
  }
 ],
 "metadata": {
  "anaconda-cloud": {},
  "kernelspec": {
   "display_name": "Python 3.6 - AzureML",
   "language": "python",
   "name": "python3-azureml"
  },
  "language_info": {
   "codemirror_mode": {
    "name": "ipython",
    "version": 3
   },
   "file_extension": ".py",
   "mimetype": "text/x-python",
   "name": "python",
   "nbconvert_exporter": "python",
   "pygments_lexer": "ipython3",
   "version": "3.6.5"
  },
  "widgets": {
   "application/vnd.jupyter.widget-state+json": {
    "state": {
     "208cc3b53e2c45fea1440188a863efb8": {
      "model_module": "@jupyter-widgets/base",
      "model_module_version": "1.0.0",
      "model_name": "DOMWidgetModel",
      "state": {
       "_model_name": "DOMWidgetModel",
       "_view_module": "azureml_contrib_widgets",
       "_view_module_version": "^0.1.0",
       "_view_name": "ShowHyperDriveRunsView",
       "layout": "IPY_MODEL_8a36279a14624bbdb1926c2572748861",
       "value": {
        "child_runs": [
         {
          "arguments": "azureml-setup/context_manager_injector.py -i OutputCollection:context_managers.RunHistory -i DaskOnBatch:context_managers.DaskOnBatch tf_mnist_train.py --minibatch_size 64 --learning_rate 0.001 --keep_probability 0.5 --output_dir outputs --num_iterations 1000 --learning_rate 0.000852395056049516 --keep_probability 0.434530370965995",
          "created_time": "2018-06-01 19:41:39.666220+00:00",
          "created_time_dt": "2018-06-01T19:41:39.666220",
          "duration": "0:00:57",
          "end_time": "2018-06-01 19:42:37.511351+00:00",
          "hyperdrive_id": "5488",
          "metric": 0.9842000007629395,
          "paras_keep_probability": "0.434530370965995",
          "paras_learning_rate": "0.000852395056049516",
          "paras_minibatch_size": "64",
          "paras_num_iterations": "1000",
          "paras_output_dir": "outputs",
          "run_id": "tensorflow-hyperdrive_1527881081325_446_5488_abbecb6c",
          "run_number": 16,
          "start_time": "2018-06-01 19:41:40.368621+00:00",
          "status": "Completed"
         },
         {
          "arguments": "azureml-setup/context_manager_injector.py -i OutputCollection:context_managers.RunHistory -i DaskOnBatch:context_managers.DaskOnBatch tf_mnist_train.py --minibatch_size 64 --learning_rate 0.001 --keep_probability 0.5 --output_dir outputs --num_iterations 1000 --learning_rate 0.00179999057463703 --keep_probability 0.296515321882523",
          "created_time": "2018-06-01 19:29:46.303636+00:00",
          "created_time_dt": "2018-06-01T19:29:46.303636",
          "duration": "0:02:03",
          "end_time": "2018-06-01 19:31:50.043486+00:00",
          "hyperdrive_id": "5469",
          "metric": 0.9836999773979187,
          "paras_keep_probability": "0.296515321882523",
          "paras_learning_rate": "0.00179999057463703",
          "paras_minibatch_size": "64",
          "paras_num_iterations": "1000",
          "paras_output_dir": "outputs",
          "run_id": "tensorflow-hyperdrive_1527881081325_446_5469_9f034e69",
          "run_number": 10,
          "start_time": "2018-06-01 19:29:47.033264+00:00",
          "status": "Completed"
         },
         {
          "arguments": "azureml-setup/context_manager_injector.py -i OutputCollection:context_managers.RunHistory -i DaskOnBatch:context_managers.DaskOnBatch tf_mnist_train.py --minibatch_size 64 --learning_rate 0.001 --keep_probability 0.5 --output_dir outputs --num_iterations 1000 --learning_rate 0.000676904386677712 --keep_probability 0.4154535083569",
          "created_time": "2018-06-01 19:50:31.651044+00:00",
          "created_time_dt": "2018-06-01T19:50:31.651044",
          "duration": "0:14:30",
          "end_time": "2018-06-01 20:05:02.591649+00:00",
          "hyperdrive_id": "5498",
          "metric": 0.9828000068664551,
          "paras_keep_probability": "0.4154535083569",
          "paras_learning_rate": "0.000676904386677712",
          "paras_minibatch_size": "64",
          "paras_num_iterations": "1000",
          "paras_output_dir": "outputs",
          "run_id": "tensorflow-hyperdrive_1527881081325_446_5498_32e0a249",
          "run_number": 20,
          "start_time": "2018-06-01 19:50:37.386350+00:00",
          "status": "Completed"
         },
         {
          "arguments": "azureml-setup/context_manager_injector.py -i OutputCollection:context_managers.RunHistory -i DaskOnBatch:context_managers.DaskOnBatch tf_mnist_train.py --minibatch_size 64 --learning_rate 0.001 --keep_probability 0.5 --output_dir outputs --num_iterations 1000 --learning_rate 0.000586938713321222 --keep_probability 0.432942295536284",
          "created_time": "2018-06-01 19:37:36.678691+00:00",
          "created_time_dt": "2018-06-01T19:37:36.678691",
          "duration": "0:01:46",
          "end_time": "2018-06-01 19:39:23.211000+00:00",
          "hyperdrive_id": "5479",
          "metric": 0.9818000197410583,
          "paras_keep_probability": "0.432942295536284",
          "paras_learning_rate": "0.000586938713321222",
          "paras_minibatch_size": "64",
          "paras_num_iterations": "1000",
          "paras_output_dir": "outputs",
          "run_id": "tensorflow-hyperdrive_1527881081325_446_5479_cb5037ed",
          "run_number": 11,
          "start_time": "2018-06-01 19:37:43.143211+00:00",
          "status": "Completed"
         },
         {
          "arguments": "azureml-setup/context_manager_injector.py -i OutputCollection:context_managers.RunHistory -i DaskOnBatch:context_managers.DaskOnBatch tf_mnist_train.py --minibatch_size 64 --learning_rate 0.001 --keep_probability 0.5 --output_dir outputs --num_iterations 1000 --learning_rate 0.000321696353537414 --keep_probability 0.446837800410634",
          "created_time": "2018-06-01 19:41:39.915872+00:00",
          "created_time_dt": "2018-06-01T19:41:39.915872",
          "duration": "0:02:58",
          "end_time": "2018-06-01 19:44:38.693923+00:00",
          "hyperdrive_id": "5490",
          "metric": 0.9812999963760376,
          "paras_keep_probability": "0.446837800410634",
          "paras_learning_rate": "0.000321696353537414",
          "paras_minibatch_size": "64",
          "paras_num_iterations": "1000",
          "paras_output_dir": "outputs",
          "run_id": "tensorflow-hyperdrive_1527881081325_446_5490_cfcbcea1",
          "run_number": 17,
          "start_time": "2018-06-01 19:41:40.688804+00:00",
          "status": "Completed"
         },
         {
          "arguments": "azureml-setup/context_manager_injector.py -i OutputCollection:context_managers.RunHistory -i DaskOnBatch:context_managers.DaskOnBatch tf_mnist_train.py --minibatch_size 64 --learning_rate 0.001 --keep_probability 0.5 --output_dir outputs --num_iterations 1000 --learning_rate 0.000598930751146987 --keep_probability 0.173175740602207",
          "created_time": "2018-06-01 19:41:44.682554+00:00",
          "created_time_dt": "2018-06-01T19:41:44.682554",
          "duration": "0:01:54",
          "end_time": "2018-06-01 19:43:38.690104+00:00",
          "hyperdrive_id": "5491",
          "metric": 0.9785000085830688,
          "paras_keep_probability": "0.173175740602207",
          "paras_learning_rate": "0.000598930751146987",
          "paras_minibatch_size": "64",
          "paras_num_iterations": "1000",
          "paras_output_dir": "outputs",
          "run_id": "tensorflow-hyperdrive_1527881081325_446_5491_1ab60563",
          "run_number": 18,
          "start_time": "2018-06-01 19:41:45.356160+00:00",
          "status": "Completed"
         },
         {
          "arguments": "azureml-setup/context_manager_injector.py -i OutputCollection:context_managers.RunHistory -i DaskOnBatch:context_managers.DaskOnBatch tf_mnist_train.py --minibatch_size 64 --learning_rate 0.001 --keep_probability 0.5 --output_dir outputs --num_iterations 1000 --learning_rate 0.00313856224079023 --keep_probability 0.308708329651949",
          "created_time": "2018-06-01 19:29:46.140940+00:00",
          "created_time_dt": "2018-06-01T19:29:46.140940",
          "duration": "0:02:02",
          "end_time": "2018-06-01 19:31:49.127224+00:00",
          "hyperdrive_id": "5471",
          "metric": 0.9764000177383423,
          "paras_keep_probability": "0.308708329651949",
          "paras_learning_rate": "0.00313856224079023",
          "paras_minibatch_size": "64",
          "paras_num_iterations": "1000",
          "paras_output_dir": "outputs",
          "run_id": "tensorflow-hyperdrive_1527881081325_446_5471_05cdc17b",
          "run_number": 8,
          "start_time": "2018-06-01 19:29:46.876362+00:00",
          "status": "Completed"
         },
         {
          "arguments": "azureml-setup/context_manager_injector.py -i OutputCollection:context_managers.RunHistory -i DaskOnBatch:context_managers.DaskOnBatch tf_mnist_train.py --minibatch_size 64 --learning_rate 0.001 --keep_probability 0.5 --output_dir outputs --num_iterations 1000 --learning_rate 0.000321079619657115 --keep_probability 0.166071686996525",
          "created_time": "2018-06-01 19:26:11.468523+00:00",
          "created_time_dt": "2018-06-01T19:26:11.468523",
          "duration": "0:01:48",
          "end_time": "2018-06-01 19:28:00.170666+00:00",
          "hyperdrive_id": "5460",
          "metric": 0.9703999757766724,
          "paras_keep_probability": "0.166071686996525",
          "paras_learning_rate": "0.000321079619657115",
          "paras_minibatch_size": "64",
          "paras_num_iterations": "1000",
          "paras_output_dir": "outputs",
          "run_id": "tensorflow-hyperdrive_1527881081325_446_5460_0ff67ff3",
          "run_number": 6,
          "start_time": "2018-06-01 19:26:12.172473+00:00",
          "status": "Completed"
         },
         {
          "arguments": "azureml-setup/context_manager_injector.py -i OutputCollection:context_managers.RunHistory -i DaskOnBatch:context_managers.DaskOnBatch tf_mnist_train.py --minibatch_size 64 --learning_rate 0.001 --keep_probability 0.5 --output_dir outputs --num_iterations 1000 --learning_rate 0.00970484525511844 --keep_probability 0.334371206847485",
          "created_time": "2018-06-01 19:25:53.815492+00:00",
          "created_time_dt": "2018-06-01T19:25:53.815492",
          "duration": "0:02:07",
          "end_time": "2018-06-01 19:28:01.507944+00:00",
          "hyperdrive_id": "5457",
          "metric": 0.968500018119812,
          "paras_keep_probability": "0.334371206847485",
          "paras_learning_rate": "0.00970484525511844",
          "paras_minibatch_size": "64",
          "paras_num_iterations": "1000",
          "paras_output_dir": "outputs",
          "run_id": "tensorflow-hyperdrive_1527881081325_446_5457_a4c3a147",
          "run_number": 4,
          "start_time": "2018-06-01 19:26:08.553859+00:00",
          "status": "Completed"
         },
         {
          "arguments": "azureml-setup/context_manager_injector.py -i OutputCollection:context_managers.RunHistory -i DaskOnBatch:context_managers.DaskOnBatch tf_mnist_train.py --minibatch_size 64 --learning_rate 0.001 --keep_probability 0.5 --output_dir outputs --num_iterations 1000 --learning_rate 0.00922621594789716 --keep_probability 0.227683838955561",
          "created_time": "2018-06-01 19:37:36.835723+00:00",
          "created_time_dt": "2018-06-01T19:37:36.835723",
          "duration": "0:01:03",
          "end_time": "2018-06-01 19:38:40.652773+00:00",
          "hyperdrive_id": "5480",
          "metric": 0.9663000106811523,
          "paras_keep_probability": "0.227683838955561",
          "paras_learning_rate": "0.00922621594789716",
          "paras_minibatch_size": "64",
          "paras_num_iterations": "1000",
          "paras_output_dir": "outputs",
          "run_id": "tensorflow-hyperdrive_1527881081325_446_5480_f234fb08",
          "run_number": 14,
          "start_time": "2018-06-01 19:37:38.116439+00:00",
          "status": "Completed"
         },
         {
          "arguments": "azureml-setup/context_manager_injector.py -i OutputCollection:context_managers.RunHistory -i DaskOnBatch:context_managers.DaskOnBatch tf_mnist_train.py --minibatch_size 64 --learning_rate 0.001 --keep_probability 0.5 --output_dir outputs --num_iterations 1000 --learning_rate 0.0155645426732787 --keep_probability 0.159123698168668",
          "created_time": "2018-06-01 19:29:46.277531+00:00",
          "created_time_dt": "2018-06-01T19:29:46.277531",
          "duration": "0:01:09",
          "end_time": "2018-06-01 19:30:55.727701+00:00",
          "hyperdrive_id": "5472",
          "metric": 0.964900016784668,
          "paras_keep_probability": "0.159123698168668",
          "paras_learning_rate": "0.0155645426732787",
          "paras_minibatch_size": "64",
          "paras_num_iterations": "1000",
          "paras_output_dir": "outputs",
          "run_id": "tensorflow-hyperdrive_1527881081325_446_5472_23122c4b",
          "run_number": 9,
          "start_time": "2018-06-01 19:29:46.964148+00:00",
          "status": "Completed"
         },
         {
          "arguments": "azureml-setup/context_manager_injector.py -i OutputCollection:context_managers.RunHistory -i DaskOnBatch:context_managers.DaskOnBatch tf_mnist_train.py --minibatch_size 64 --learning_rate 0.001 --keep_probability 0.5 --output_dir outputs --num_iterations 1000 --learning_rate 0.00838536088211458 --keep_probability 0.102478957268164",
          "created_time": "2018-06-01 19:25:53.548553+00:00",
          "created_time_dt": "2018-06-01T19:25:53.548553",
          "duration": "0:01:05",
          "end_time": "2018-06-01 19:26:59.136632+00:00",
          "hyperdrive_id": "5459",
          "metric": 0.9646999835968018,
          "paras_keep_probability": "0.102478957268164",
          "paras_learning_rate": "0.00838536088211458",
          "paras_minibatch_size": "64",
          "paras_num_iterations": "1000",
          "paras_output_dir": "outputs",
          "run_id": "tensorflow-hyperdrive_1527881081325_446_5459_030491ad",
          "run_number": 3,
          "start_time": "2018-06-01 19:25:54.739654+00:00",
          "status": "Completed"
         },
         {
          "arguments": "azureml-setup/context_manager_injector.py -i OutputCollection:context_managers.RunHistory -i DaskOnBatch:context_managers.DaskOnBatch tf_mnist_train.py --minibatch_size 64 --learning_rate 0.001 --keep_probability 0.5 --output_dir outputs --num_iterations 1000 --learning_rate 0.000143958552086584 --keep_probability 0.273084377226789",
          "created_time": "2018-06-01 19:29:46.057879+00:00",
          "created_time_dt": "2018-06-01T19:29:46.057879",
          "duration": "0:01:18",
          "end_time": "2018-06-01 19:31:04.843202+00:00",
          "hyperdrive_id": "5470",
          "metric": 0.963699996471405,
          "paras_keep_probability": "0.273084377226789",
          "paras_learning_rate": "0.000143958552086584",
          "paras_minibatch_size": "64",
          "paras_num_iterations": "1000",
          "paras_output_dir": "outputs",
          "run_id": "tensorflow-hyperdrive_1527881081325_446_5470_a648dbea",
          "run_number": 7,
          "start_time": "2018-06-01 19:29:46.780201+00:00",
          "status": "Completed"
         },
         {
          "arguments": "azureml-setup/context_manager_injector.py -i OutputCollection:context_managers.RunHistory -i DaskOnBatch:context_managers.DaskOnBatch tf_mnist_train.py --minibatch_size 64 --learning_rate 0.001 --keep_probability 0.5 --output_dir outputs --num_iterations 1000 --learning_rate 7.14051833348127E-05 --keep_probability 0.472685817381368",
          "created_time": "2018-06-01 19:41:39.648602+00:00",
          "created_time_dt": "2018-06-01T19:41:39.648602",
          "duration": "0:03:06",
          "end_time": "2018-06-01 19:44:45.699811+00:00",
          "hyperdrive_id": "5489",
          "metric": 0.9613000154495239,
          "paras_keep_probability": "0.472685817381368",
          "paras_learning_rate": "7.14051833348127E-05",
          "paras_minibatch_size": "64",
          "paras_num_iterations": "1000",
          "paras_output_dir": "outputs",
          "run_id": "tensorflow-hyperdrive_1527881081325_446_5489_38907948",
          "run_number": 15,
          "start_time": "2018-06-01 19:41:40.512369+00:00",
          "status": "Completed"
         },
         {
          "arguments": "azureml-setup/context_manager_injector.py -i OutputCollection:context_managers.RunHistory -i DaskOnBatch:context_managers.DaskOnBatch tf_mnist_train.py --minibatch_size 64 --learning_rate 0.001 --keep_probability 0.5 --output_dir outputs --num_iterations 1000 --learning_rate 0.00737747352627753 --keep_probability 0.205239625544216",
          "created_time": "2018-06-01 19:50:33.596963+00:00",
          "created_time_dt": "2018-06-01T19:50:33.596963",
          "duration": "0:01:51",
          "end_time": "2018-06-01 19:52:25.281499+00:00",
          "hyperdrive_id": "5497",
          "metric": 0.9581999778747559,
          "paras_keep_probability": "0.205239625544216",
          "paras_learning_rate": "0.00737747352627753",
          "paras_minibatch_size": "64",
          "paras_num_iterations": "1000",
          "paras_output_dir": "outputs",
          "run_id": "tensorflow-hyperdrive_1527881081325_446_5497_8130025b",
          "run_number": 22,
          "start_time": "2018-06-01 19:50:34.456850+00:00",
          "status": "Completed"
         },
         {
          "arguments": "azureml-setup/context_manager_injector.py -i OutputCollection:context_managers.RunHistory -i DaskOnBatch:context_managers.DaskOnBatch tf_mnist_train.py --minibatch_size 64 --learning_rate 0.001 --keep_probability 0.5 --output_dir outputs --num_iterations 1000 --learning_rate 0.0211316024512922 --keep_probability 0.456008246140918",
          "created_time": "2018-06-01 19:50:31.581841+00:00",
          "created_time_dt": "2018-06-01T19:50:31.581841",
          "duration": "0:01:03",
          "end_time": "2018-06-01 19:51:35.272415+00:00",
          "hyperdrive_id": "5499",
          "metric": 0.9580000042915344,
          "paras_keep_probability": "0.456008246140918",
          "paras_learning_rate": "0.0211316024512922",
          "paras_minibatch_size": "64",
          "paras_num_iterations": "1000",
          "paras_output_dir": "outputs",
          "run_id": "tensorflow-hyperdrive_1527881081325_446_5499_e0b5a73f",
          "run_number": 19,
          "start_time": "2018-06-01 19:50:32.786951+00:00",
          "status": "Completed"
         },
         {
          "arguments": "azureml-setup/context_manager_injector.py -i OutputCollection:context_managers.RunHistory -i DaskOnBatch:context_managers.DaskOnBatch tf_mnist_train.py --minibatch_size 64 --learning_rate 0.001 --keep_probability 0.5 --output_dir outputs --num_iterations 1000 --learning_rate 7.56451710371043E-05 --keep_probability 0.321364540919092",
          "created_time": "2018-06-01 19:50:33.421674+00:00",
          "created_time_dt": "2018-06-01T19:50:33.421674",
          "duration": "0:06:27",
          "end_time": "2018-06-01 19:57:00.982688+00:00",
          "hyperdrive_id": "5496",
          "metric": 0.9520000219345093,
          "paras_keep_probability": "0.321364540919092",
          "paras_learning_rate": "7.56451710371043E-05",
          "paras_minibatch_size": "64",
          "paras_num_iterations": "1000",
          "paras_output_dir": "outputs",
          "run_id": "tensorflow-hyperdrive_1527881081325_446_5496_46a98c1f",
          "run_number": 21,
          "start_time": "2018-06-01 19:50:34.379782+00:00",
          "status": "Completed"
         },
         {
          "arguments": "azureml-setup/context_manager_injector.py -i OutputCollection:context_managers.RunHistory -i DaskOnBatch:context_managers.DaskOnBatch tf_mnist_train.py --minibatch_size 64 --learning_rate 0.001 --keep_probability 0.5 --output_dir outputs --num_iterations 1000 --learning_rate 6.86923046964849E-05 --keep_probability 0.229123758955098",
          "created_time": "2018-06-01 19:37:36.816510+00:00",
          "created_time_dt": "2018-06-01T19:37:36.816510",
          "duration": "0:01:12",
          "end_time": "2018-06-01 19:38:49.439465+00:00",
          "hyperdrive_id": "5477",
          "metric": 0.9483000040054321,
          "paras_keep_probability": "0.229123758955098",
          "paras_learning_rate": "6.86923046964849E-05",
          "paras_minibatch_size": "64",
          "paras_num_iterations": "1000",
          "paras_output_dir": "outputs",
          "run_id": "tensorflow-hyperdrive_1527881081325_446_5477_c428bcf0",
          "run_number": 13,
          "start_time": "2018-06-01 19:37:42.971387+00:00",
          "status": "Completed"
         },
         {
          "arguments": "azureml-setup/context_manager_injector.py -i OutputCollection:context_managers.RunHistory -i DaskOnBatch:context_managers.DaskOnBatch tf_mnist_train.py --minibatch_size 64 --learning_rate 0.001 --keep_probability 0.5 --output_dir outputs --num_iterations 1000 --learning_rate 0.014609502490554 --keep_probability 0.480459935106515",
          "created_time": "2018-06-01 19:26:10.258955+00:00",
          "created_time_dt": "2018-06-01T19:26:10.258955",
          "duration": "0:02:41",
          "end_time": "2018-06-01 19:28:52.069673+00:00",
          "hyperdrive_id": "5458",
          "metric": 0.12110000103712082,
          "paras_keep_probability": "0.480459935106515",
          "paras_learning_rate": "0.014609502490554",
          "paras_minibatch_size": "64",
          "paras_num_iterations": "1000",
          "paras_output_dir": "outputs",
          "run_id": "tensorflow-hyperdrive_1527881081325_446_5458_3f73f0ac",
          "run_number": 5,
          "start_time": "2018-06-01 19:26:17.107379+00:00",
          "status": "Completed"
         },
         {
          "arguments": "azureml-setup/context_manager_injector.py -i OutputCollection:context_managers.RunHistory -i DaskOnBatch:context_managers.DaskOnBatch tf_mnist_train.py --minibatch_size 64 --learning_rate 0.001 --keep_probability 0.5 --output_dir outputs --num_iterations 1000 --learning_rate 0.0149932664638274 --keep_probability 0.284424630578217",
          "created_time": "2018-06-01 19:37:36.730460+00:00",
          "created_time_dt": "2018-06-01T19:37:36.730460",
          "duration": "0:01:08",
          "end_time": "2018-06-01 19:38:44.881339+00:00",
          "hyperdrive_id": "5478",
          "metric": 0.11349999904632568,
          "paras_keep_probability": "0.284424630578217",
          "paras_learning_rate": "0.0149932664638274",
          "paras_minibatch_size": "64",
          "paras_num_iterations": "1000",
          "paras_output_dir": "outputs",
          "run_id": "tensorflow-hyperdrive_1527881081325_446_5478_24390740",
          "run_number": 12,
          "start_time": "2018-06-01 19:37:42.865594+00:00",
          "status": "Completed"
         }
        ],
        "children_metrics": {
         "allArguments": [
          "keep_probability",
          "learning_rate",
          "minibatch_size",
          "output_dir",
          "num_iterations",
          "Accuracy"
         ],
         "categories": [
          0,
          1,
          2,
          3,
          4,
          5,
          6,
          7,
          8,
          9,
          10
         ],
         "jobHistData": [
          {
           "arguments": "azureml-setup/context_manager_injector.py -i OutputCollection:context_managers.RunHistory -i DaskOnBatch:context_managers.DaskOnBatch tf_mnist_train.py --minibatch_size 64 --learning_rate 0.001 --keep_probability 0.5 --output_dir outputs --num_iterations 1000 --learning_rate 0.000852395056049516 --keep_probability 0.434530370965995",
           "created_time": "2018-06-01 19:41:39.666220+00:00",
           "created_time_dt": "2018-06-01T19:41:39.666220",
           "duration": "0:00:57",
           "end_time": "2018-06-01 19:42:37.511351+00:00",
           "hyperdrive_id": "5488",
           "metric": 0.9842000007629395,
           "paras_keep_probability": "0.434530370965995",
           "paras_learning_rate": "0.000852395056049516",
           "paras_minibatch_size": "64",
           "paras_num_iterations": "1000",
           "paras_output_dir": "outputs",
           "run_id": "tensorflow-hyperdrive_1527881081325_446_5488_abbecb6c",
           "run_number": 16,
           "start_time": "2018-06-01 19:41:40.368621+00:00",
           "status": "Completed"
          },
          {
           "arguments": "azureml-setup/context_manager_injector.py -i OutputCollection:context_managers.RunHistory -i DaskOnBatch:context_managers.DaskOnBatch tf_mnist_train.py --minibatch_size 64 --learning_rate 0.001 --keep_probability 0.5 --output_dir outputs --num_iterations 1000 --learning_rate 0.00179999057463703 --keep_probability 0.296515321882523",
           "created_time": "2018-06-01 19:29:46.303636+00:00",
           "created_time_dt": "2018-06-01T19:29:46.303636",
           "duration": "0:02:03",
           "end_time": "2018-06-01 19:31:50.043486+00:00",
           "hyperdrive_id": "5469",
           "metric": 0.9836999773979187,
           "paras_keep_probability": "0.296515321882523",
           "paras_learning_rate": "0.00179999057463703",
           "paras_minibatch_size": "64",
           "paras_num_iterations": "1000",
           "paras_output_dir": "outputs",
           "run_id": "tensorflow-hyperdrive_1527881081325_446_5469_9f034e69",
           "run_number": 10,
           "start_time": "2018-06-01 19:29:47.033264+00:00",
           "status": "Completed"
          },
          {
           "arguments": "azureml-setup/context_manager_injector.py -i OutputCollection:context_managers.RunHistory -i DaskOnBatch:context_managers.DaskOnBatch tf_mnist_train.py --minibatch_size 64 --learning_rate 0.001 --keep_probability 0.5 --output_dir outputs --num_iterations 1000 --learning_rate 0.000676904386677712 --keep_probability 0.4154535083569",
           "created_time": "2018-06-01 19:50:31.651044+00:00",
           "created_time_dt": "2018-06-01T19:50:31.651044",
           "duration": "0:14:30",
           "end_time": "2018-06-01 20:05:02.591649+00:00",
           "hyperdrive_id": "5498",
           "metric": 0.9828000068664551,
           "paras_keep_probability": "0.4154535083569",
           "paras_learning_rate": "0.000676904386677712",
           "paras_minibatch_size": "64",
           "paras_num_iterations": "1000",
           "paras_output_dir": "outputs",
           "run_id": "tensorflow-hyperdrive_1527881081325_446_5498_32e0a249",
           "run_number": 20,
           "start_time": "2018-06-01 19:50:37.386350+00:00",
           "status": "Completed"
          },
          {
           "arguments": "azureml-setup/context_manager_injector.py -i OutputCollection:context_managers.RunHistory -i DaskOnBatch:context_managers.DaskOnBatch tf_mnist_train.py --minibatch_size 64 --learning_rate 0.001 --keep_probability 0.5 --output_dir outputs --num_iterations 1000 --learning_rate 0.000586938713321222 --keep_probability 0.432942295536284",
           "created_time": "2018-06-01 19:37:36.678691+00:00",
           "created_time_dt": "2018-06-01T19:37:36.678691",
           "duration": "0:01:46",
           "end_time": "2018-06-01 19:39:23.211000+00:00",
           "hyperdrive_id": "5479",
           "metric": 0.9818000197410583,
           "paras_keep_probability": "0.432942295536284",
           "paras_learning_rate": "0.000586938713321222",
           "paras_minibatch_size": "64",
           "paras_num_iterations": "1000",
           "paras_output_dir": "outputs",
           "run_id": "tensorflow-hyperdrive_1527881081325_446_5479_cb5037ed",
           "run_number": 11,
           "start_time": "2018-06-01 19:37:43.143211+00:00",
           "status": "Completed"
          },
          {
           "arguments": "azureml-setup/context_manager_injector.py -i OutputCollection:context_managers.RunHistory -i DaskOnBatch:context_managers.DaskOnBatch tf_mnist_train.py --minibatch_size 64 --learning_rate 0.001 --keep_probability 0.5 --output_dir outputs --num_iterations 1000 --learning_rate 0.000321696353537414 --keep_probability 0.446837800410634",
           "created_time": "2018-06-01 19:41:39.915872+00:00",
           "created_time_dt": "2018-06-01T19:41:39.915872",
           "duration": "0:02:58",
           "end_time": "2018-06-01 19:44:38.693923+00:00",
           "hyperdrive_id": "5490",
           "metric": 0.9812999963760376,
           "paras_keep_probability": "0.446837800410634",
           "paras_learning_rate": "0.000321696353537414",
           "paras_minibatch_size": "64",
           "paras_num_iterations": "1000",
           "paras_output_dir": "outputs",
           "run_id": "tensorflow-hyperdrive_1527881081325_446_5490_cfcbcea1",
           "run_number": 17,
           "start_time": "2018-06-01 19:41:40.688804+00:00",
           "status": "Completed"
          },
          {
           "arguments": "azureml-setup/context_manager_injector.py -i OutputCollection:context_managers.RunHistory -i DaskOnBatch:context_managers.DaskOnBatch tf_mnist_train.py --minibatch_size 64 --learning_rate 0.001 --keep_probability 0.5 --output_dir outputs --num_iterations 1000 --learning_rate 0.000598930751146987 --keep_probability 0.173175740602207",
           "created_time": "2018-06-01 19:41:44.682554+00:00",
           "created_time_dt": "2018-06-01T19:41:44.682554",
           "duration": "0:01:54",
           "end_time": "2018-06-01 19:43:38.690104+00:00",
           "hyperdrive_id": "5491",
           "metric": 0.9785000085830688,
           "paras_keep_probability": "0.173175740602207",
           "paras_learning_rate": "0.000598930751146987",
           "paras_minibatch_size": "64",
           "paras_num_iterations": "1000",
           "paras_output_dir": "outputs",
           "run_id": "tensorflow-hyperdrive_1527881081325_446_5491_1ab60563",
           "run_number": 18,
           "start_time": "2018-06-01 19:41:45.356160+00:00",
           "status": "Completed"
          },
          {
           "arguments": "azureml-setup/context_manager_injector.py -i OutputCollection:context_managers.RunHistory -i DaskOnBatch:context_managers.DaskOnBatch tf_mnist_train.py --minibatch_size 64 --learning_rate 0.001 --keep_probability 0.5 --output_dir outputs --num_iterations 1000 --learning_rate 0.00313856224079023 --keep_probability 0.308708329651949",
           "created_time": "2018-06-01 19:29:46.140940+00:00",
           "created_time_dt": "2018-06-01T19:29:46.140940",
           "duration": "0:02:02",
           "end_time": "2018-06-01 19:31:49.127224+00:00",
           "hyperdrive_id": "5471",
           "metric": 0.9764000177383423,
           "paras_keep_probability": "0.308708329651949",
           "paras_learning_rate": "0.00313856224079023",
           "paras_minibatch_size": "64",
           "paras_num_iterations": "1000",
           "paras_output_dir": "outputs",
           "run_id": "tensorflow-hyperdrive_1527881081325_446_5471_05cdc17b",
           "run_number": 8,
           "start_time": "2018-06-01 19:29:46.876362+00:00",
           "status": "Completed"
          },
          {
           "arguments": "azureml-setup/context_manager_injector.py -i OutputCollection:context_managers.RunHistory -i DaskOnBatch:context_managers.DaskOnBatch tf_mnist_train.py --minibatch_size 64 --learning_rate 0.001 --keep_probability 0.5 --output_dir outputs --num_iterations 1000 --learning_rate 0.000321079619657115 --keep_probability 0.166071686996525",
           "created_time": "2018-06-01 19:26:11.468523+00:00",
           "created_time_dt": "2018-06-01T19:26:11.468523",
           "duration": "0:01:48",
           "end_time": "2018-06-01 19:28:00.170666+00:00",
           "hyperdrive_id": "5460",
           "metric": 0.9703999757766724,
           "paras_keep_probability": "0.166071686996525",
           "paras_learning_rate": "0.000321079619657115",
           "paras_minibatch_size": "64",
           "paras_num_iterations": "1000",
           "paras_output_dir": "outputs",
           "run_id": "tensorflow-hyperdrive_1527881081325_446_5460_0ff67ff3",
           "run_number": 6,
           "start_time": "2018-06-01 19:26:12.172473+00:00",
           "status": "Completed"
          },
          {
           "arguments": "azureml-setup/context_manager_injector.py -i OutputCollection:context_managers.RunHistory -i DaskOnBatch:context_managers.DaskOnBatch tf_mnist_train.py --minibatch_size 64 --learning_rate 0.001 --keep_probability 0.5 --output_dir outputs --num_iterations 1000 --learning_rate 0.00970484525511844 --keep_probability 0.334371206847485",
           "created_time": "2018-06-01 19:25:53.815492+00:00",
           "created_time_dt": "2018-06-01T19:25:53.815492",
           "duration": "0:02:07",
           "end_time": "2018-06-01 19:28:01.507944+00:00",
           "hyperdrive_id": "5457",
           "metric": 0.968500018119812,
           "paras_keep_probability": "0.334371206847485",
           "paras_learning_rate": "0.00970484525511844",
           "paras_minibatch_size": "64",
           "paras_num_iterations": "1000",
           "paras_output_dir": "outputs",
           "run_id": "tensorflow-hyperdrive_1527881081325_446_5457_a4c3a147",
           "run_number": 4,
           "start_time": "2018-06-01 19:26:08.553859+00:00",
           "status": "Completed"
          },
          {
           "arguments": "azureml-setup/context_manager_injector.py -i OutputCollection:context_managers.RunHistory -i DaskOnBatch:context_managers.DaskOnBatch tf_mnist_train.py --minibatch_size 64 --learning_rate 0.001 --keep_probability 0.5 --output_dir outputs --num_iterations 1000 --learning_rate 0.00922621594789716 --keep_probability 0.227683838955561",
           "created_time": "2018-06-01 19:37:36.835723+00:00",
           "created_time_dt": "2018-06-01T19:37:36.835723",
           "duration": "0:01:03",
           "end_time": "2018-06-01 19:38:40.652773+00:00",
           "hyperdrive_id": "5480",
           "metric": 0.9663000106811523,
           "paras_keep_probability": "0.227683838955561",
           "paras_learning_rate": "0.00922621594789716",
           "paras_minibatch_size": "64",
           "paras_num_iterations": "1000",
           "paras_output_dir": "outputs",
           "run_id": "tensorflow-hyperdrive_1527881081325_446_5480_f234fb08",
           "run_number": 14,
           "start_time": "2018-06-01 19:37:38.116439+00:00",
           "status": "Completed"
          },
          {
           "arguments": "azureml-setup/context_manager_injector.py -i OutputCollection:context_managers.RunHistory -i DaskOnBatch:context_managers.DaskOnBatch tf_mnist_train.py --minibatch_size 64 --learning_rate 0.001 --keep_probability 0.5 --output_dir outputs --num_iterations 1000 --learning_rate 0.0155645426732787 --keep_probability 0.159123698168668",
           "created_time": "2018-06-01 19:29:46.277531+00:00",
           "created_time_dt": "2018-06-01T19:29:46.277531",
           "duration": "0:01:09",
           "end_time": "2018-06-01 19:30:55.727701+00:00",
           "hyperdrive_id": "5472",
           "metric": 0.964900016784668,
           "paras_keep_probability": "0.159123698168668",
           "paras_learning_rate": "0.0155645426732787",
           "paras_minibatch_size": "64",
           "paras_num_iterations": "1000",
           "paras_output_dir": "outputs",
           "run_id": "tensorflow-hyperdrive_1527881081325_446_5472_23122c4b",
           "run_number": 9,
           "start_time": "2018-06-01 19:29:46.964148+00:00",
           "status": "Completed"
          },
          {
           "arguments": "azureml-setup/context_manager_injector.py -i OutputCollection:context_managers.RunHistory -i DaskOnBatch:context_managers.DaskOnBatch tf_mnist_train.py --minibatch_size 64 --learning_rate 0.001 --keep_probability 0.5 --output_dir outputs --num_iterations 1000 --learning_rate 0.00838536088211458 --keep_probability 0.102478957268164",
           "created_time": "2018-06-01 19:25:53.548553+00:00",
           "created_time_dt": "2018-06-01T19:25:53.548553",
           "duration": "0:01:05",
           "end_time": "2018-06-01 19:26:59.136632+00:00",
           "hyperdrive_id": "5459",
           "metric": 0.9646999835968018,
           "paras_keep_probability": "0.102478957268164",
           "paras_learning_rate": "0.00838536088211458",
           "paras_minibatch_size": "64",
           "paras_num_iterations": "1000",
           "paras_output_dir": "outputs",
           "run_id": "tensorflow-hyperdrive_1527881081325_446_5459_030491ad",
           "run_number": 3,
           "start_time": "2018-06-01 19:25:54.739654+00:00",
           "status": "Completed"
          },
          {
           "arguments": "azureml-setup/context_manager_injector.py -i OutputCollection:context_managers.RunHistory -i DaskOnBatch:context_managers.DaskOnBatch tf_mnist_train.py --minibatch_size 64 --learning_rate 0.001 --keep_probability 0.5 --output_dir outputs --num_iterations 1000 --learning_rate 0.000143958552086584 --keep_probability 0.273084377226789",
           "created_time": "2018-06-01 19:29:46.057879+00:00",
           "created_time_dt": "2018-06-01T19:29:46.057879",
           "duration": "0:01:18",
           "end_time": "2018-06-01 19:31:04.843202+00:00",
           "hyperdrive_id": "5470",
           "metric": 0.963699996471405,
           "paras_keep_probability": "0.273084377226789",
           "paras_learning_rate": "0.000143958552086584",
           "paras_minibatch_size": "64",
           "paras_num_iterations": "1000",
           "paras_output_dir": "outputs",
           "run_id": "tensorflow-hyperdrive_1527881081325_446_5470_a648dbea",
           "run_number": 7,
           "start_time": "2018-06-01 19:29:46.780201+00:00",
           "status": "Completed"
          },
          {
           "arguments": "azureml-setup/context_manager_injector.py -i OutputCollection:context_managers.RunHistory -i DaskOnBatch:context_managers.DaskOnBatch tf_mnist_train.py --minibatch_size 64 --learning_rate 0.001 --keep_probability 0.5 --output_dir outputs --num_iterations 1000 --learning_rate 7.14051833348127E-05 --keep_probability 0.472685817381368",
           "created_time": "2018-06-01 19:41:39.648602+00:00",
           "created_time_dt": "2018-06-01T19:41:39.648602",
           "duration": "0:03:06",
           "end_time": "2018-06-01 19:44:45.699811+00:00",
           "hyperdrive_id": "5489",
           "metric": 0.9613000154495239,
           "paras_keep_probability": "0.472685817381368",
           "paras_learning_rate": "7.14051833348127E-05",
           "paras_minibatch_size": "64",
           "paras_num_iterations": "1000",
           "paras_output_dir": "outputs",
           "run_id": "tensorflow-hyperdrive_1527881081325_446_5489_38907948",
           "run_number": 15,
           "start_time": "2018-06-01 19:41:40.512369+00:00",
           "status": "Completed"
          },
          {
           "arguments": "azureml-setup/context_manager_injector.py -i OutputCollection:context_managers.RunHistory -i DaskOnBatch:context_managers.DaskOnBatch tf_mnist_train.py --minibatch_size 64 --learning_rate 0.001 --keep_probability 0.5 --output_dir outputs --num_iterations 1000 --learning_rate 0.00737747352627753 --keep_probability 0.205239625544216",
           "created_time": "2018-06-01 19:50:33.596963+00:00",
           "created_time_dt": "2018-06-01T19:50:33.596963",
           "duration": "0:01:51",
           "end_time": "2018-06-01 19:52:25.281499+00:00",
           "hyperdrive_id": "5497",
           "metric": 0.9581999778747559,
           "paras_keep_probability": "0.205239625544216",
           "paras_learning_rate": "0.00737747352627753",
           "paras_minibatch_size": "64",
           "paras_num_iterations": "1000",
           "paras_output_dir": "outputs",
           "run_id": "tensorflow-hyperdrive_1527881081325_446_5497_8130025b",
           "run_number": 22,
           "start_time": "2018-06-01 19:50:34.456850+00:00",
           "status": "Completed"
          },
          {
           "arguments": "azureml-setup/context_manager_injector.py -i OutputCollection:context_managers.RunHistory -i DaskOnBatch:context_managers.DaskOnBatch tf_mnist_train.py --minibatch_size 64 --learning_rate 0.001 --keep_probability 0.5 --output_dir outputs --num_iterations 1000 --learning_rate 0.0211316024512922 --keep_probability 0.456008246140918",
           "created_time": "2018-06-01 19:50:31.581841+00:00",
           "created_time_dt": "2018-06-01T19:50:31.581841",
           "duration": "0:01:03",
           "end_time": "2018-06-01 19:51:35.272415+00:00",
           "hyperdrive_id": "5499",
           "metric": 0.9580000042915344,
           "paras_keep_probability": "0.456008246140918",
           "paras_learning_rate": "0.0211316024512922",
           "paras_minibatch_size": "64",
           "paras_num_iterations": "1000",
           "paras_output_dir": "outputs",
           "run_id": "tensorflow-hyperdrive_1527881081325_446_5499_e0b5a73f",
           "run_number": 19,
           "start_time": "2018-06-01 19:50:32.786951+00:00",
           "status": "Completed"
          },
          {
           "arguments": "azureml-setup/context_manager_injector.py -i OutputCollection:context_managers.RunHistory -i DaskOnBatch:context_managers.DaskOnBatch tf_mnist_train.py --minibatch_size 64 --learning_rate 0.001 --keep_probability 0.5 --output_dir outputs --num_iterations 1000 --learning_rate 7.56451710371043E-05 --keep_probability 0.321364540919092",
           "created_time": "2018-06-01 19:50:33.421674+00:00",
           "created_time_dt": "2018-06-01T19:50:33.421674",
           "duration": "0:06:27",
           "end_time": "2018-06-01 19:57:00.982688+00:00",
           "hyperdrive_id": "5496",
           "metric": 0.9520000219345093,
           "paras_keep_probability": "0.321364540919092",
           "paras_learning_rate": "7.56451710371043E-05",
           "paras_minibatch_size": "64",
           "paras_num_iterations": "1000",
           "paras_output_dir": "outputs",
           "run_id": "tensorflow-hyperdrive_1527881081325_446_5496_46a98c1f",
           "run_number": 21,
           "start_time": "2018-06-01 19:50:34.379782+00:00",
           "status": "Completed"
          },
          {
           "arguments": "azureml-setup/context_manager_injector.py -i OutputCollection:context_managers.RunHistory -i DaskOnBatch:context_managers.DaskOnBatch tf_mnist_train.py --minibatch_size 64 --learning_rate 0.001 --keep_probability 0.5 --output_dir outputs --num_iterations 1000 --learning_rate 6.86923046964849E-05 --keep_probability 0.229123758955098",
           "created_time": "2018-06-01 19:37:36.816510+00:00",
           "created_time_dt": "2018-06-01T19:37:36.816510",
           "duration": "0:01:12",
           "end_time": "2018-06-01 19:38:49.439465+00:00",
           "hyperdrive_id": "5477",
           "metric": 0.9483000040054321,
           "paras_keep_probability": "0.229123758955098",
           "paras_learning_rate": "6.86923046964849E-05",
           "paras_minibatch_size": "64",
           "paras_num_iterations": "1000",
           "paras_output_dir": "outputs",
           "run_id": "tensorflow-hyperdrive_1527881081325_446_5477_c428bcf0",
           "run_number": 13,
           "start_time": "2018-06-01 19:37:42.971387+00:00",
           "status": "Completed"
          },
          {
           "arguments": "azureml-setup/context_manager_injector.py -i OutputCollection:context_managers.RunHistory -i DaskOnBatch:context_managers.DaskOnBatch tf_mnist_train.py --minibatch_size 64 --learning_rate 0.001 --keep_probability 0.5 --output_dir outputs --num_iterations 1000 --learning_rate 0.014609502490554 --keep_probability 0.480459935106515",
           "created_time": "2018-06-01 19:26:10.258955+00:00",
           "created_time_dt": "2018-06-01T19:26:10.258955",
           "duration": "0:02:41",
           "end_time": "2018-06-01 19:28:52.069673+00:00",
           "hyperdrive_id": "5458",
           "metric": 0.12110000103712082,
           "paras_keep_probability": "0.480459935106515",
           "paras_learning_rate": "0.014609502490554",
           "paras_minibatch_size": "64",
           "paras_num_iterations": "1000",
           "paras_output_dir": "outputs",
           "run_id": "tensorflow-hyperdrive_1527881081325_446_5458_3f73f0ac",
           "run_number": 5,
           "start_time": "2018-06-01 19:26:17.107379+00:00",
           "status": "Completed"
          },
          {
           "arguments": "azureml-setup/context_manager_injector.py -i OutputCollection:context_managers.RunHistory -i DaskOnBatch:context_managers.DaskOnBatch tf_mnist_train.py --minibatch_size 64 --learning_rate 0.001 --keep_probability 0.5 --output_dir outputs --num_iterations 1000 --learning_rate 0.0149932664638274 --keep_probability 0.284424630578217",
           "created_time": "2018-06-01 19:37:36.730460+00:00",
           "created_time_dt": "2018-06-01T19:37:36.730460",
           "duration": "0:01:08",
           "end_time": "2018-06-01 19:38:44.881339+00:00",
           "hyperdrive_id": "5478",
           "metric": 0.11349999904632568,
           "paras_keep_probability": "0.284424630578217",
           "paras_learning_rate": "0.0149932664638274",
           "paras_minibatch_size": "64",
           "paras_num_iterations": "1000",
           "paras_output_dir": "outputs",
           "run_id": "tensorflow-hyperdrive_1527881081325_446_5478_24390740",
           "run_number": 12,
           "start_time": "2018-06-01 19:37:42.865594+00:00",
           "status": "Completed"
          }
         ],
         "metricName": "Accuracy",
         "series": [
          {
           "mode": "lines",
           "name": 20,
           "run_id": 20,
           "stepped": false,
           "uid": "d9463a",
           "x": [
            0,
            1,
            2,
            3,
            4,
            5,
            6,
            7,
            8,
            9,
            10
           ],
           "y": [
            0.052000001072883606,
            0.9318000078201294,
            0.9584000110626221,
            0.9639999866485596,
            0.9710999727249146,
            0.9746999740600586,
            0.9768999814987183,
            0.9822999835014343,
            0.978600025177002,
            0.9801999926567078,
            0.9828000068664551
           ]
          },
          {
           "mode": "lines",
           "name": 7,
           "run_id": 7,
           "stepped": false,
           "uid": "2d6574",
           "x": [
            0,
            1,
            2,
            3,
            4,
            5,
            6,
            7,
            8,
            9,
            10
           ],
           "y": [
            0.08749999850988388,
            0.855400025844574,
            0.911300003528595,
            0.9289000034332275,
            0.9394999742507935,
            0.9431999921798706,
            0.9509999752044678,
            0.9553999900817871,
            0.9555000066757202,
            0.963699996471405,
            0.9616000056266785
           ]
          },
          {
           "mode": "lines",
           "name": 16,
           "run_id": 16,
           "stepped": false,
           "uid": "add68c",
           "x": [
            0,
            1,
            2,
            3,
            4,
            5,
            6,
            7,
            8,
            9,
            10
           ],
           "y": [
            0.08869999647140503,
            0.9404000043869019,
            0.9574000239372253,
            0.9700999855995178,
            0.9715999960899353,
            0.979200005531311,
            0.9797000288963318,
            0.9812999963760376,
            0.9797999858856201,
            0.9817000031471252,
            0.9842000007629395
           ]
          },
          {
           "mode": "lines",
           "name": 14,
           "run_id": 14,
           "stepped": false,
           "uid": "38792f",
           "x": [
            0,
            1,
            2,
            3,
            4,
            5,
            6,
            7,
            8,
            9,
            10
           ],
           "y": [
            0.08950000256299973,
            0.9248999953269958,
            0.9545999765396118,
            0.9581000208854675,
            0.9559999704360962,
            0.9627000093460083,
            0.9642000198364258,
            0.9663000106811523,
            0.9585999846458435,
            0.963100016117096,
            0.9595999717712402
           ]
          },
          {
           "mode": "lines",
           "name": 6,
           "run_id": 6,
           "stepped": false,
           "uid": "10fcf1",
           "x": [
            0,
            1,
            2,
            3,
            4,
            5,
            6,
            7,
            8,
            9,
            10
           ],
           "y": [
            0.08980000019073486,
            0.8791999816894531,
            0.9261000156402588,
            0.9426000118255615,
            0.9501000046730042,
            0.9546999931335449,
            0.9573000073432922,
            0.963699996471405,
            0.965499997138977,
            0.9684000015258789,
            0.9703999757766724
           ]
          },
          {
           "mode": "lines",
           "name": 22,
           "run_id": 22,
           "stepped": false,
           "uid": "f09911",
           "visible": "legendonly",
           "x": [
            0,
            1,
            2,
            3,
            4,
            5,
            6,
            7,
            8,
            9,
            10
           ],
           "y": [
            0.0949999988079071,
            0.8639000058174133,
            0.9139999747276306,
            0.9171000123023987,
            0.930899977684021,
            0.9441999793052673,
            0.9545999765396118,
            0.9560999870300293,
            0.9581999778747559,
            0.9539999961853027,
            0.9559000134468079
           ]
          },
          {
           "mode": "lines",
           "name": 8,
           "run_id": 8,
           "stepped": false,
           "uid": "e6ae29",
           "visible": "legendonly",
           "x": [
            0,
            1,
            2,
            3,
            4,
            5,
            6,
            7,
            8,
            9,
            10
           ],
           "y": [
            0.0949999988079071,
            0.8953999876976013,
            0.942300021648407,
            0.9513999819755554,
            0.9617000222206116,
            0.9564999938011169,
            0.9689000248908997,
            0.9688000082969666,
            0.9704999923706055,
            0.9760000109672546,
            0.9764000177383423
           ]
          },
          {
           "mode": "lines",
           "name": 12,
           "run_id": 12,
           "stepped": false,
           "uid": "84d316",
           "visible": "legendonly",
           "x": [
            0,
            1,
            2,
            3,
            4,
            5,
            6,
            7,
            8,
            9,
            10
           ],
           "y": [
            0.09629999846220016,
            0.11349999904632568,
            0.10279999673366547,
            0.10090000182390213,
            0.11349999904632568,
            0.11349999904632568,
            0.11349999904632568,
            0.10279999673366547,
            0.10279999673366547,
            0.11349999904632568,
            0.11349999904632568
           ]
          },
          {
           "mode": "lines",
           "name": 5,
           "run_id": 5,
           "stepped": false,
           "uid": "05acc0",
           "visible": "legendonly",
           "x": [
            0,
            1,
            2,
            3,
            4,
            5,
            6,
            7,
            8,
            9,
            10
           ],
           "y": [
            0.12110000103712082,
            0.0982000008225441,
            0.11349999904632568,
            0.11349999904632568,
            0.10320000350475311,
            0.11349999904632568,
            0.11349999904632568,
            0.11349999904632568,
            0.11349999904632568,
            0.11349999904632568,
            0.11349999904632568
           ]
          },
          {
           "mode": "lines",
           "name": 4,
           "run_id": 4,
           "stepped": false,
           "uid": "9b5194",
           "visible": "legendonly",
           "x": [
            0,
            1,
            2,
            3,
            4,
            5,
            6,
            7,
            8,
            9,
            10
           ],
           "y": [
            0.10109999775886536,
            0.8985999822616577,
            0.9424999952316284,
            0.9294999837875366,
            0.9545999765396118,
            0.9581000208854675,
            0.9616000056266785,
            0.9678999781608582,
            0.9661999940872192,
            0.9672999978065491,
            0.968500018119812
           ]
          },
          {
           "mode": "lines",
           "name": 11,
           "run_id": 11,
           "stepped": false,
           "uid": "b7a136",
           "visible": "legendonly",
           "x": [
            0,
            1,
            2,
            3,
            4,
            5,
            6,
            7,
            8,
            9,
            10
           ],
           "y": [
            0.10440000146627426,
            0.9383000135421753,
            0.9538999795913696,
            0.9664000272750854,
            0.9717000126838684,
            0.9760000109672546,
            0.9732999801635742,
            0.9779000282287598,
            0.9817000031471252,
            0.9818000197410583,
            0.9799000024795532
           ]
          },
          {
           "mode": "lines",
           "name": 3,
           "run_id": 3,
           "stepped": false,
           "uid": "dab69b",
           "visible": "legendonly",
           "x": [
            0,
            1,
            2,
            3,
            4,
            5,
            6,
            7,
            8,
            9,
            10
           ],
           "y": [
            0.11159999668598175,
            0.8949000239372253,
            0.9286999702453613,
            0.9498999714851379,
            0.9539999961853027,
            0.953499972820282,
            0.9606999754905701,
            0.9613000154495239,
            0.9549999833106995,
            0.9646999835968018,
            0.9581999778747559
           ]
          },
          {
           "mode": "lines",
           "name": 15,
           "run_id": 15,
           "stepped": false,
           "uid": "90901a",
           "visible": "legendonly",
           "x": [
            0,
            1,
            2,
            3,
            4,
            5,
            6,
            7,
            8,
            9,
            10
           ],
           "y": [
            0.11159999668598175,
            0.8270000219345093,
            0.9024999737739563,
            0.9175999760627747,
            0.9323999881744385,
            0.9368000030517578,
            0.9431999921798706,
            0.9506000280380249,
            0.9526000022888184,
            0.9584000110626221,
            0.9613000154495239
           ]
          },
          {
           "mode": "lines",
           "name": 10,
           "run_id": 10,
           "stepped": false,
           "uid": "bd666d",
           "visible": "legendonly",
           "x": [
            0,
            1,
            2,
            3,
            4,
            5,
            6,
            7,
            8,
            9,
            10
           ],
           "y": [
            0.11209999769926071,
            0.9466000199317932,
            0.9639000296592712,
            0.9722999930381775,
            0.9781000018119812,
            0.9800999760627747,
            0.9781000018119812,
            0.9814000129699707,
            0.9833999872207642,
            0.9836999773979187,
            0.9829000234603882
           ]
          },
          {
           "mode": "lines",
           "name": 21,
           "run_id": 21,
           "stepped": false,
           "uid": "3f3472",
           "visible": "legendonly",
           "x": [
            0,
            1,
            2,
            3,
            4,
            5,
            6,
            7,
            8,
            9,
            10
           ],
           "y": [
            0.11500000208616257,
            0.789900004863739,
            0.8838000297546387,
            0.9072999954223633,
            0.9203000068664551,
            0.9312000274658203,
            0.9319000244140625,
            0.9434000253677368,
            0.9470999836921692,
            0.9477999806404114,
            0.9520000219345093
           ]
          },
          {
           "mode": "lines",
           "name": 19,
           "run_id": 19,
           "stepped": false,
           "uid": "982581",
           "visible": "legendonly",
           "x": [
            0,
            1,
            2,
            3,
            4,
            5,
            6,
            7,
            8,
            9,
            10
           ],
           "y": [
            0.1160999983549118,
            0.9366000294685364,
            0.9473000168800354,
            0.9552000164985657,
            0.95660001039505,
            0.9465000033378601,
            0.9575999975204468,
            0.9580000042915344,
            0.949999988079071,
            0.9520999789237976,
            0.9567999839782715
           ]
          },
          {
           "mode": "lines",
           "name": 18,
           "run_id": 18,
           "stepped": false,
           "uid": "f812c0",
           "visible": "legendonly",
           "x": [
            0,
            1,
            2,
            3,
            4,
            5,
            6,
            7,
            8,
            9,
            10
           ],
           "y": [
            0.12210000306367874,
            0.917900025844574,
            0.9437999725341797,
            0.95660001039505,
            0.9646000266075134,
            0.9692000150680542,
            0.9707000255584717,
            0.9735999703407288,
            0.9781000018119812,
            0.9775999784469604,
            0.9785000085830688
           ]
          },
          {
           "mode": "lines",
           "name": 13,
           "run_id": 13,
           "stepped": false,
           "uid": "022e43",
           "visible": "legendonly",
           "x": [
            0,
            1,
            2,
            3,
            4,
            5,
            6,
            7,
            8,
            9,
            10
           ],
           "y": [
            0.13899999856948853,
            0.7547000050544739,
            0.8593000173568726,
            0.8981999754905701,
            0.9186999797821045,
            0.9254999756813049,
            0.934499979019165,
            0.9377999901771545,
            0.9431999921798706,
            0.9437999725341797,
            0.9483000040054321
           ]
          },
          {
           "mode": "lines",
           "name": 9,
           "run_id": 9,
           "stepped": false,
           "uid": "ee6d23",
           "visible": "legendonly",
           "x": [
            0,
            1,
            2,
            3,
            4,
            5,
            6,
            7,
            8,
            9,
            10
           ],
           "y": [
            0.14800000190734863,
            0.9146999716758728,
            0.9452999830245972,
            0.9506000280380249,
            0.9550999999046326,
            0.9584000110626221,
            0.9599000215530396,
            0.9621000289916992,
            0.964900016784668,
            0.9510999917984009,
            0.9624000191688538
           ]
          },
          {
           "mode": "lines",
           "name": 17,
           "run_id": 17,
           "stepped": false,
           "uid": "4fd9d8",
           "visible": "legendonly",
           "x": [
            0,
            1,
            2,
            3,
            4,
            5,
            6,
            7,
            8,
            9,
            10
           ],
           "y": [
            0.16419999301433563,
            0.9247999787330627,
            0.9431999921798706,
            0.9599000215530396,
            0.9674999713897705,
            0.9695000052452087,
            0.9765999913215637,
            0.9763000011444092,
            0.9779999852180481,
            0.9812999963760376,
            0.9789000153541565
           ]
          }
         ],
         "showLegend": true,
         "title": "HyperDrive Run Primary Metric : Accuracy"
        },
        "run_id": "tensorflow-hyperdrive_1527881081325",
        "run_logs": "",
        "run_metrics": [],
        "run_properties": {
         "additional_properties": {},
         "created_utc": "2018-06-01T19:24:41.846775",
         "description": null,
         "end_time_utc": "2018-06-01T20:05:15.398835",
         "experiment_id": "54fc7a8b-21a4-4a10-8931-bd36c717c9b7",
         "heartbeat_enabled": false,
         "hidden": false,
         "name": "tensorflow-hyperdrive",
         "parent_run_id": null,
         "properties": {
          "all_jobs_generated": "true",
          "azureml.runsource": "hyperdrive",
          "cancellation_requested": "false",
          "generator_config": "{\"name\": \"RANDOM\", \"parameter_space\": {\"learning_rate\": [\"loguniform\", [-10, -3]], \"keep_probability\": [\"uniform\", [0.5, 0.1]]}}",
          "is_hyperdrive_run": "true",
          "max_concurrent_jobs": "4",
          "max_duration_minutes": "43200",
          "max_total_jobs": "20",
          "policy_config": "{\"name\": \"BANDIT\", \"properties\": {\"slack_factor\": 0.15, \"evaluation_interval\": 2, \"delay_evaluation\": 0}}",
          "primary_metric_config": "{\"name\": \"Accuracy\", \"goal\": \"maximize\"}",
          "runTemplate": "HyperDrive"
         },
         "root_run_id": "tensorflow-hyperdrive_1527881081325",
         "run_id": "tensorflow-hyperdrive_1527881081325",
         "run_number": 2,
         "script_name": "tf_mnist_train.py",
         "start_time_utc": null,
         "status": "Completed",
         "tags": {},
         "target": "gpucluster",
         "token": null,
         "token_expiry_time_utc": null,
         "user_id": "fffc1c66-275f-4935-bb04-70a760c82fda"
        },
        "status": "Completed",
        "workbench_run_details_uri": "https://mlworkbench.azureml-test.net/home/%2Fsubscriptions%2Ffac34303-435d-4486-8c3f-7094d82a0b60%2FresourceGroups%2Faml-notebooks%2Fproviders%2FMicrosoft.MachineLearningServices%2Fworkspaces%2Fhaieastus2ws3/projects/tensorflow-hyperdrive/run-history/run-details/tensorflow-hyperdrive_1527881081325?type=HyperDrive"
       }
      }
     },
     "49be30037a73481a900026b30fc816eb": {
      "model_module": "@jupyter-widgets/base",
      "model_module_version": "1.0.0",
      "model_name": "LayoutModel",
      "state": {}
     },
     "524fd810f76f4ed69236c8e0cf20da11": {
      "model_module": "@jupyter-widgets/base",
      "model_module_version": "1.0.0",
      "model_name": "DOMWidgetModel",
      "state": {
       "_model_name": "DOMWidgetModel",
       "_view_module": "azureml_contrib_widgets",
       "_view_module_version": "^0.1.0",
       "_view_name": "ShowRunDetailsView",
       "layout": "IPY_MODEL_cce84fe5e64141a0a69e0029ca3553a5",
       "value": {
        "child_runs": [],
        "children_metrics": {},
        "run_id": "tensorflow-hyperdrive_1527879977658",
        "run_logs": "Uploading experiment status to history service.\nAdding run profile attachment azureml-logs/80_driver_log.txt\nUploading experiment status to history service.\nAdding run profile attachment azureml-logs/60_control_log.txt\n\n\rUsing Spark's default log4j profile: org/apache/spark/log4j-defaults.properties\nSetting default log level to \"WARN\".\nTo adjust logging level use sc.setLogLevel(newLevel). For SparkR, use setLogLevel(newLevel).\n18/06/01 19:20:28 WARN NativeCodeLoader: Unable to load native-hadoop library for your platform... using builtin-java classes where applicable\n/azureml-envs/azureml_799f97443dc957270fd0268d825cda62/lib/python3.6/importlib/_bootstrap.py:205: RuntimeWarning: compiletime version 3.5 of module 'tensorflow.python.framework.fast_tensor_util' does not match runtime version 3.6\n  return f(*args, **kwds)\nSuccessfully downloaded train-images-idx3-ubyte.gz 9912422 bytes.\nExtracting MNIST_data/train-images-idx3-ubyte.gz\nSuccessfully downloaded train-labels-idx1-ubyte.gz 28881 bytes.\nExtracting MNIST_data/train-labels-idx1-ubyte.gz\nSuccessfully downloaded t10k-images-idx3-ubyte.gz 1648877 bytes.\nExtracting MNIST_data/t10k-images-idx3-ubyte.gz\nSuccessfully downloaded t10k-labels-idx1-ubyte.gz 4542 bytes.\nExtracting MNIST_data/t10k-labels-idx1-ubyte.gz\n2018-06-01 19:20:33.459019: I tensorflow/core/platform/cpu_feature_guard.cc:137] Your CPU supports instructions that this TensorFlow binary was not compiled to use: SSE4.1 SSE4.2 AVX AVX2 FMA\n2018-06-01 19:20:33.674933: I tensorflow/core/common_runtime/gpu/gpu_device.cc:1030] Found device 0 with properties: \nname: Tesla K80 major: 3 minor: 7 memoryClockRate(GHz): 0.8235\npciBusID: 813c:00:00.0\ntotalMemory: 11.17GiB freeMemory: 11.09GiB\n2018-06-01 19:20:33.674977: I tensorflow/core/common_runtime/gpu/gpu_device.cc:1120] Creating TensorFlow device (/device:GPU:0) -> (device: 0, name: Tesla K80, pci bus id: 813c:00:00.0, compute capability: 3.7)\nstep 0, training accuracy 0.09375, test accuracy, 0.0958\nstep 100, training accuracy 0.953125, test accuracy, 0.9461\nstep 200, training accuracy 0.953125, test accuracy, 0.9594\nstep 300, training accuracy 0.953125, test accuracy, 0.9719\nstep 400, training accuracy 0.984375, test accuracy, 0.9787\nstep 500, training accuracy 0.96875, test accuracy, 0.9778\nstep 600, training accuracy 0.984375, test accuracy, 0.9806\nstep 700, training accuracy 0.96875, test accuracy, 0.9788\nstep 800, training accuracy 0.96875, test accuracy, 0.9819\nstep 900, training accuracy 0.984375, test accuracy, 0.9818\ntest accuracy 0.9836\nThe experiment completed successfully. Starting post-processing steps.\n\n\r",
        "run_metrics": [
         {
          "categories": [
           0
          ],
          "name": "learning_rate",
          "run_id": "tensorflow-hyperdrive_1527879977658",
          "series": [
           {
            "data": [
             0.001
            ]
           }
          ]
         },
         {
          "categories": [
           0
          ],
          "name": "minibatch_size",
          "run_id": "tensorflow-hyperdrive_1527879977658",
          "series": [
           {
            "data": [
             64
            ]
           }
          ]
         },
         {
          "categories": [
           0
          ],
          "name": "keep_probability",
          "run_id": "tensorflow-hyperdrive_1527879977658",
          "series": [
           {
            "data": [
             0.5
            ]
           }
          ]
         },
         {
          "categories": [
           0
          ],
          "name": "num_iterations",
          "run_id": "tensorflow-hyperdrive_1527879977658",
          "series": [
           {
            "data": [
             1000
            ]
           }
          ]
         },
         {
          "categories": [
           0,
           1,
           2,
           3,
           4,
           5,
           6,
           7,
           8,
           9,
           10
          ],
          "name": "Accuracy",
          "run_id": "tensorflow-hyperdrive_1527879977658",
          "series": [
           {
            "uid": "5c86a1",
            "x": [
             0,
             1,
             2,
             3,
             4,
             5,
             6,
             7,
             8,
             9,
             10
            ],
            "y": [
             0.0957999974489212,
             0.9460999965667725,
             0.9593999981880188,
             0.9718999862670898,
             0.9786999821662903,
             0.9778000116348267,
             0.9805999994277954,
             0.9787999987602234,
             0.9818999767303467,
             0.9818000197410583,
             0.9836000204086304
            ]
           }
          ]
         },
         {
          "categories": [
           0,
           1,
           2,
           3,
           4,
           5,
           6,
           7,
           8,
           9,
           10
          ],
          "name": "Iterations",
          "run_id": "tensorflow-hyperdrive_1527879977658",
          "series": [
           {
            "uid": "8867c0",
            "x": [
             0,
             1,
             2,
             3,
             4,
             5,
             6,
             7,
             8,
             9,
             10
            ],
            "y": [
             0,
             100,
             200,
             300,
             400,
             500,
             600,
             700,
             800,
             900,
             1000
            ]
           }
          ]
         }
        ],
        "run_properties": {
         "additional_properties": {},
         "created_utc": "2018-06-01T19:06:18.159119",
         "description": null,
         "end_time_utc": "2018-06-01T19:21:08.302609",
         "experiment_id": "54fc7a8b-21a4-4a10-8931-bd36c717c9b7",
         "heartbeat_enabled": false,
         "hidden": false,
         "name": null,
         "parent_run_id": null,
         "properties": {
          "Arguments": "azureml-setup/context_manager_injector.py -i OutputCollection:context_managers.RunHistory -i DaskOnBatch:context_managers.DaskOnBatch tf_mnist_train.py --minibatch_size 64 --learning_rate 0.001 --keep_probability 0.5 --output_dir outputs --num_iterations 1000",
          "ContentSnapshotId": "67acb36c-e77e-44ae-b820-e6242b9909ab",
          "azureml.runsource": "experiment"
         },
         "root_run_id": "tensorflow-hyperdrive_1527879977658",
         "run_id": "tensorflow-hyperdrive_1527879977658",
         "run_number": 1,
         "script_name": "tf_mnist_train.py",
         "start_time_utc": "2018-06-01T19:19:31.364278",
         "status": "Completed",
         "tags": {},
         "target": "gpucluster",
         "token": null,
         "token_expiry_time_utc": null,
         "user_id": "fb7d2bbf-2c54-46d7-8775-7e318644dd6b"
        },
        "status": "Completed",
        "workbench_run_details_uri": "https://mlworkbench.azureml-test.net/home/%2Fsubscriptions%2Ffac34303-435d-4486-8c3f-7094d82a0b60%2FresourceGroups%2Faml-notebooks%2Fproviders%2FMicrosoft.MachineLearningServices%2Fworkspaces%2Fhaieastus2ws3/projects/tensorflow-hyperdrive/run-history/run-details/tensorflow-hyperdrive_1527879977658?type=user"
       }
      }
     },
     "8a36279a14624bbdb1926c2572748861": {
      "model_module": "@jupyter-widgets/base",
      "model_module_version": "1.0.0",
      "model_name": "LayoutModel",
      "state": {}
     },
     "bc94f0e90ff64d62a1ff1f84bc34803b": {
      "model_module": "@jupyter-widgets/base",
      "model_module_version": "1.0.0",
      "model_name": "LayoutModel",
      "state": {}
     },
     "cce84fe5e64141a0a69e0029ca3553a5": {
      "model_module": "@jupyter-widgets/base",
      "model_module_version": "1.0.0",
      "model_name": "LayoutModel",
      "state": {}
     },
     "d7a8a4fc54e4453fbc31d11604742430": {
      "model_module": "@jupyter-widgets/base",
      "model_module_version": "1.0.0",
      "model_name": "DOMWidgetModel",
      "state": {
       "_model_name": "DOMWidgetModel",
       "_view_module": "azureml_contrib_widgets",
       "_view_module_version": "^0.1.0",
       "_view_name": "ShowRunDetailsView",
       "layout": "IPY_MODEL_49be30037a73481a900026b30fc816eb",
       "value": {
        "child_runs": [],
        "children_metrics": {},
        "run_id": "tensorflow-hyperdrive_1527879977658",
        "run_logs": "Uploading experiment status to history service.\nAdding run profile attachment azureml-logs/80_driver_log.txt\nUploading experiment status to history service.\nAdding run profile attachment azureml-logs/60_control_log.txt\n\n\rUsing Spark's default log4j profile: org/apache/spark/log4j-defaults.properties\nSetting default log level to \"WARN\".\nTo adjust logging level use sc.setLogLevel(newLevel). For SparkR, use setLogLevel(newLevel).\n18/06/01 19:20:28 WARN NativeCodeLoader: Unable to load native-hadoop library for your platform... using builtin-java classes where applicable\n/azureml-envs/azureml_799f97443dc957270fd0268d825cda62/lib/python3.6/importlib/_bootstrap.py:205: RuntimeWarning: compiletime version 3.5 of module 'tensorflow.python.framework.fast_tensor_util' does not match runtime version 3.6\n  return f(*args, **kwds)\nSuccessfully downloaded train-images-idx3-ubyte.gz 9912422 bytes.\nExtracting MNIST_data/train-images-idx3-ubyte.gz\nSuccessfully downloaded train-labels-idx1-ubyte.gz 28881 bytes.\nExtracting MNIST_data/train-labels-idx1-ubyte.gz\nSuccessfully downloaded t10k-images-idx3-ubyte.gz 1648877 bytes.\nExtracting MNIST_data/t10k-images-idx3-ubyte.gz\nSuccessfully downloaded t10k-labels-idx1-ubyte.gz 4542 bytes.\nExtracting MNIST_data/t10k-labels-idx1-ubyte.gz\n2018-06-01 19:20:33.459019: I tensorflow/core/platform/cpu_feature_guard.cc:137] Your CPU supports instructions that this TensorFlow binary was not compiled to use: SSE4.1 SSE4.2 AVX AVX2 FMA\n2018-06-01 19:20:33.674933: I tensorflow/core/common_runtime/gpu/gpu_device.cc:1030] Found device 0 with properties: \nname: Tesla K80 major: 3 minor: 7 memoryClockRate(GHz): 0.8235\npciBusID: 813c:00:00.0\ntotalMemory: 11.17GiB freeMemory: 11.09GiB\n2018-06-01 19:20:33.674977: I tensorflow/core/common_runtime/gpu/gpu_device.cc:1120] Creating TensorFlow device (/device:GPU:0) -> (device: 0, name: Tesla K80, pci bus id: 813c:00:00.0, compute capability: 3.7)\nstep 0, training accuracy 0.09375, test accuracy, 0.0958\nstep 100, training accuracy 0.953125, test accuracy, 0.9461\nstep 200, training accuracy 0.953125, test accuracy, 0.9594\nstep 300, training accuracy 0.953125, test accuracy, 0.9719\nstep 400, training accuracy 0.984375, test accuracy, 0.9787\nstep 500, training accuracy 0.96875, test accuracy, 0.9778\nstep 600, training accuracy 0.984375, test accuracy, 0.9806\nstep 700, training accuracy 0.96875, test accuracy, 0.9788\nstep 800, training accuracy 0.96875, test accuracy, 0.9819\nstep 900, training accuracy 0.984375, test accuracy, 0.9818\ntest accuracy 0.9836\nThe experiment completed successfully. Starting post-processing steps.\n\n\r",
        "run_metrics": [
         {
          "categories": [
           0
          ],
          "name": "learning_rate",
          "run_id": "tensorflow-hyperdrive_1527879977658",
          "series": [
           {
            "data": [
             0.001
            ]
           }
          ]
         },
         {
          "categories": [
           0
          ],
          "name": "minibatch_size",
          "run_id": "tensorflow-hyperdrive_1527879977658",
          "series": [
           {
            "data": [
             64
            ]
           }
          ]
         },
         {
          "categories": [
           0
          ],
          "name": "keep_probability",
          "run_id": "tensorflow-hyperdrive_1527879977658",
          "series": [
           {
            "data": [
             0.5
            ]
           }
          ]
         },
         {
          "categories": [
           0
          ],
          "name": "num_iterations",
          "run_id": "tensorflow-hyperdrive_1527879977658",
          "series": [
           {
            "data": [
             1000
            ]
           }
          ]
         },
         {
          "categories": [
           0,
           1,
           2,
           3,
           4,
           5,
           6,
           7,
           8,
           9,
           10
          ],
          "name": "Accuracy",
          "run_id": "tensorflow-hyperdrive_1527879977658",
          "series": [
           {
            "data": [
             0.0957999974489212,
             0.9460999965667725,
             0.9593999981880188,
             0.9718999862670898,
             0.9786999821662903,
             0.9778000116348267,
             0.9805999994277954,
             0.9787999987602234,
             0.9818999767303467,
             0.9818000197410583,
             0.9836000204086304
            ]
           }
          ]
         },
         {
          "categories": [
           0,
           1,
           2,
           3,
           4,
           5,
           6,
           7,
           8,
           9,
           10
          ],
          "name": "Iterations",
          "run_id": "tensorflow-hyperdrive_1527879977658",
          "series": [
           {
            "data": [
             0,
             100,
             200,
             300,
             400,
             500,
             600,
             700,
             800,
             900,
             1000
            ]
           }
          ]
         }
        ],
        "run_properties": {
         "additional_properties": {},
         "created_utc": "2018-06-01T19:06:18.159119",
         "description": null,
         "end_time_utc": "2018-06-01T19:21:08.302609",
         "experiment_id": "54fc7a8b-21a4-4a10-8931-bd36c717c9b7",
         "heartbeat_enabled": false,
         "hidden": false,
         "name": null,
         "parent_run_id": null,
         "properties": {
          "Arguments": "azureml-setup/context_manager_injector.py -i OutputCollection:context_managers.RunHistory -i DaskOnBatch:context_managers.DaskOnBatch tf_mnist_train.py --minibatch_size 64 --learning_rate 0.001 --keep_probability 0.5 --output_dir outputs --num_iterations 1000",
          "ContentSnapshotId": "67acb36c-e77e-44ae-b820-e6242b9909ab",
          "azureml.runsource": "experiment"
         },
         "root_run_id": "tensorflow-hyperdrive_1527879977658",
         "run_id": "tensorflow-hyperdrive_1527879977658",
         "run_number": 1,
         "script_name": "tf_mnist_train.py",
         "start_time_utc": "2018-06-01T19:19:31.364278",
         "status": "Completed",
         "tags": {},
         "target": "gpucluster",
         "token": null,
         "token_expiry_time_utc": null,
         "user_id": "fb7d2bbf-2c54-46d7-8775-7e318644dd6b"
        },
        "status": "Completed",
        "workbench_run_details_uri": "https://mlworkbench.azureml-test.net/home/%2Fsubscriptions%2Ffac34303-435d-4486-8c3f-7094d82a0b60%2FresourceGroups%2Faml-notebooks%2Fproviders%2FMicrosoft.MachineLearningServices%2Fworkspaces%2Fhaieastus2ws3/projects/tensorflow-hyperdrive/run-history/run-details/tensorflow-hyperdrive_1527879977658?type=user"
       }
      }
     },
     "fd3e0717dec9444b881194f135b82853": {
      "model_module": "@jupyter-widgets/base",
      "model_module_version": "1.0.0",
      "model_name": "DOMWidgetModel",
      "state": {
       "_model_name": "DOMWidgetModel",
       "_view_module": "azureml_contrib_widgets",
       "_view_module_version": "^0.1.0",
       "_view_name": "ShowHyperDriveRunsView",
       "layout": "IPY_MODEL_bc94f0e90ff64d62a1ff1f84bc34803b",
       "value": {
        "child_runs": [
         {
          "arguments": "azureml-setup/context_manager_injector.py -i OutputCollection:context_managers.RunHistory -i DaskOnBatch:context_managers.DaskOnBatch tf_mnist_train.py --minibatch_size 64 --learning_rate 0.001 --keep_probability 0.5 --output_dir outputs --num_iterations 1000 --learning_rate 0.000852395056049516 --keep_probability 0.434530370965995",
          "created_time": "2018-06-01 19:41:39.666220+00:00",
          "created_time_dt": "2018-06-01T19:41:39.666220",
          "duration": "0:00:57",
          "end_time": "2018-06-01 19:42:37.511351+00:00",
          "hyperdrive_id": "5488",
          "metric": 0.9842000007629395,
          "run_id": "tensorflow-hyperdrive_1527881081325_446_5488_abbecb6c",
          "run_number": 16,
          "start_time": "2018-06-01 19:41:40.368621+00:00",
          "status": "Completed"
         },
         {
          "arguments": "azureml-setup/context_manager_injector.py -i OutputCollection:context_managers.RunHistory -i DaskOnBatch:context_managers.DaskOnBatch tf_mnist_train.py --minibatch_size 64 --learning_rate 0.001 --keep_probability 0.5 --output_dir outputs --num_iterations 1000 --learning_rate 0.00179999057463703 --keep_probability 0.296515321882523",
          "created_time": "2018-06-01 19:29:46.303636+00:00",
          "created_time_dt": "2018-06-01T19:29:46.303636",
          "duration": "0:02:03",
          "end_time": "2018-06-01 19:31:50.043486+00:00",
          "hyperdrive_id": "5469",
          "metric": 0.9836999773979187,
          "run_id": "tensorflow-hyperdrive_1527881081325_446_5469_9f034e69",
          "run_number": 10,
          "start_time": "2018-06-01 19:29:47.033264+00:00",
          "status": "Completed"
         },
         {
          "arguments": "azureml-setup/context_manager_injector.py -i OutputCollection:context_managers.RunHistory -i DaskOnBatch:context_managers.DaskOnBatch tf_mnist_train.py --minibatch_size 64 --learning_rate 0.001 --keep_probability 0.5 --output_dir outputs --num_iterations 1000 --learning_rate 0.000676904386677712 --keep_probability 0.4154535083569",
          "created_time": "2018-06-01 19:50:31.651044+00:00",
          "created_time_dt": "2018-06-01T19:50:31.651044",
          "duration": "0:14:30",
          "end_time": "2018-06-01 20:05:02.591649+00:00",
          "hyperdrive_id": "5498",
          "metric": 0.9828000068664551,
          "run_id": "tensorflow-hyperdrive_1527881081325_446_5498_32e0a249",
          "run_number": 20,
          "start_time": "2018-06-01 19:50:37.386350+00:00",
          "status": "Completed"
         },
         {
          "arguments": "azureml-setup/context_manager_injector.py -i OutputCollection:context_managers.RunHistory -i DaskOnBatch:context_managers.DaskOnBatch tf_mnist_train.py --minibatch_size 64 --learning_rate 0.001 --keep_probability 0.5 --output_dir outputs --num_iterations 1000 --learning_rate 0.000586938713321222 --keep_probability 0.432942295536284",
          "created_time": "2018-06-01 19:37:36.678691+00:00",
          "created_time_dt": "2018-06-01T19:37:36.678691",
          "duration": "0:01:46",
          "end_time": "2018-06-01 19:39:23.211000+00:00",
          "hyperdrive_id": "5479",
          "metric": 0.9818000197410583,
          "run_id": "tensorflow-hyperdrive_1527881081325_446_5479_cb5037ed",
          "run_number": 11,
          "start_time": "2018-06-01 19:37:43.143211+00:00",
          "status": "Completed"
         },
         {
          "arguments": "azureml-setup/context_manager_injector.py -i OutputCollection:context_managers.RunHistory -i DaskOnBatch:context_managers.DaskOnBatch tf_mnist_train.py --minibatch_size 64 --learning_rate 0.001 --keep_probability 0.5 --output_dir outputs --num_iterations 1000 --learning_rate 0.000321696353537414 --keep_probability 0.446837800410634",
          "created_time": "2018-06-01 19:41:39.915872+00:00",
          "created_time_dt": "2018-06-01T19:41:39.915872",
          "duration": "0:02:58",
          "end_time": "2018-06-01 19:44:38.693923+00:00",
          "hyperdrive_id": "5490",
          "metric": 0.9812999963760376,
          "run_id": "tensorflow-hyperdrive_1527881081325_446_5490_cfcbcea1",
          "run_number": 17,
          "start_time": "2018-06-01 19:41:40.688804+00:00",
          "status": "Completed"
         },
         {
          "arguments": "azureml-setup/context_manager_injector.py -i OutputCollection:context_managers.RunHistory -i DaskOnBatch:context_managers.DaskOnBatch tf_mnist_train.py --minibatch_size 64 --learning_rate 0.001 --keep_probability 0.5 --output_dir outputs --num_iterations 1000 --learning_rate 0.000598930751146987 --keep_probability 0.173175740602207",
          "created_time": "2018-06-01 19:41:44.682554+00:00",
          "created_time_dt": "2018-06-01T19:41:44.682554",
          "duration": "0:01:54",
          "end_time": "2018-06-01 19:43:38.690104+00:00",
          "hyperdrive_id": "5491",
          "metric": 0.9785000085830688,
          "run_id": "tensorflow-hyperdrive_1527881081325_446_5491_1ab60563",
          "run_number": 18,
          "start_time": "2018-06-01 19:41:45.356160+00:00",
          "status": "Completed"
         },
         {
          "arguments": "azureml-setup/context_manager_injector.py -i OutputCollection:context_managers.RunHistory -i DaskOnBatch:context_managers.DaskOnBatch tf_mnist_train.py --minibatch_size 64 --learning_rate 0.001 --keep_probability 0.5 --output_dir outputs --num_iterations 1000 --learning_rate 0.00313856224079023 --keep_probability 0.308708329651949",
          "created_time": "2018-06-01 19:29:46.140940+00:00",
          "created_time_dt": "2018-06-01T19:29:46.140940",
          "duration": "0:02:02",
          "end_time": "2018-06-01 19:31:49.127224+00:00",
          "hyperdrive_id": "5471",
          "metric": 0.9764000177383423,
          "run_id": "tensorflow-hyperdrive_1527881081325_446_5471_05cdc17b",
          "run_number": 8,
          "start_time": "2018-06-01 19:29:46.876362+00:00",
          "status": "Completed"
         },
         {
          "arguments": "azureml-setup/context_manager_injector.py -i OutputCollection:context_managers.RunHistory -i DaskOnBatch:context_managers.DaskOnBatch tf_mnist_train.py --minibatch_size 64 --learning_rate 0.001 --keep_probability 0.5 --output_dir outputs --num_iterations 1000 --learning_rate 0.000321079619657115 --keep_probability 0.166071686996525",
          "created_time": "2018-06-01 19:26:11.468523+00:00",
          "created_time_dt": "2018-06-01T19:26:11.468523",
          "duration": "0:01:48",
          "end_time": "2018-06-01 19:28:00.170666+00:00",
          "hyperdrive_id": "5460",
          "metric": 0.9703999757766724,
          "run_id": "tensorflow-hyperdrive_1527881081325_446_5460_0ff67ff3",
          "run_number": 6,
          "start_time": "2018-06-01 19:26:12.172473+00:00",
          "status": "Completed"
         },
         {
          "arguments": "azureml-setup/context_manager_injector.py -i OutputCollection:context_managers.RunHistory -i DaskOnBatch:context_managers.DaskOnBatch tf_mnist_train.py --minibatch_size 64 --learning_rate 0.001 --keep_probability 0.5 --output_dir outputs --num_iterations 1000 --learning_rate 0.00970484525511844 --keep_probability 0.334371206847485",
          "created_time": "2018-06-01 19:25:53.815492+00:00",
          "created_time_dt": "2018-06-01T19:25:53.815492",
          "duration": "0:02:07",
          "end_time": "2018-06-01 19:28:01.507944+00:00",
          "hyperdrive_id": "5457",
          "metric": 0.968500018119812,
          "run_id": "tensorflow-hyperdrive_1527881081325_446_5457_a4c3a147",
          "run_number": 4,
          "start_time": "2018-06-01 19:26:08.553859+00:00",
          "status": "Completed"
         },
         {
          "arguments": "azureml-setup/context_manager_injector.py -i OutputCollection:context_managers.RunHistory -i DaskOnBatch:context_managers.DaskOnBatch tf_mnist_train.py --minibatch_size 64 --learning_rate 0.001 --keep_probability 0.5 --output_dir outputs --num_iterations 1000 --learning_rate 0.00922621594789716 --keep_probability 0.227683838955561",
          "created_time": "2018-06-01 19:37:36.835723+00:00",
          "created_time_dt": "2018-06-01T19:37:36.835723",
          "duration": "0:01:03",
          "end_time": "2018-06-01 19:38:40.652773+00:00",
          "hyperdrive_id": "5480",
          "metric": 0.9663000106811523,
          "run_id": "tensorflow-hyperdrive_1527881081325_446_5480_f234fb08",
          "run_number": 14,
          "start_time": "2018-06-01 19:37:38.116439+00:00",
          "status": "Completed"
         },
         {
          "arguments": "azureml-setup/context_manager_injector.py -i OutputCollection:context_managers.RunHistory -i DaskOnBatch:context_managers.DaskOnBatch tf_mnist_train.py --minibatch_size 64 --learning_rate 0.001 --keep_probability 0.5 --output_dir outputs --num_iterations 1000 --learning_rate 0.0155645426732787 --keep_probability 0.159123698168668",
          "created_time": "2018-06-01 19:29:46.277531+00:00",
          "created_time_dt": "2018-06-01T19:29:46.277531",
          "duration": "0:01:09",
          "end_time": "2018-06-01 19:30:55.727701+00:00",
          "hyperdrive_id": "5472",
          "metric": 0.964900016784668,
          "run_id": "tensorflow-hyperdrive_1527881081325_446_5472_23122c4b",
          "run_number": 9,
          "start_time": "2018-06-01 19:29:46.964148+00:00",
          "status": "Completed"
         },
         {
          "arguments": "azureml-setup/context_manager_injector.py -i OutputCollection:context_managers.RunHistory -i DaskOnBatch:context_managers.DaskOnBatch tf_mnist_train.py --minibatch_size 64 --learning_rate 0.001 --keep_probability 0.5 --output_dir outputs --num_iterations 1000 --learning_rate 0.00838536088211458 --keep_probability 0.102478957268164",
          "created_time": "2018-06-01 19:25:53.548553+00:00",
          "created_time_dt": "2018-06-01T19:25:53.548553",
          "duration": "0:01:05",
          "end_time": "2018-06-01 19:26:59.136632+00:00",
          "hyperdrive_id": "5459",
          "metric": 0.9646999835968018,
          "run_id": "tensorflow-hyperdrive_1527881081325_446_5459_030491ad",
          "run_number": 3,
          "start_time": "2018-06-01 19:25:54.739654+00:00",
          "status": "Completed"
         },
         {
          "arguments": "azureml-setup/context_manager_injector.py -i OutputCollection:context_managers.RunHistory -i DaskOnBatch:context_managers.DaskOnBatch tf_mnist_train.py --minibatch_size 64 --learning_rate 0.001 --keep_probability 0.5 --output_dir outputs --num_iterations 1000 --learning_rate 0.000143958552086584 --keep_probability 0.273084377226789",
          "created_time": "2018-06-01 19:29:46.057879+00:00",
          "created_time_dt": "2018-06-01T19:29:46.057879",
          "duration": "0:01:18",
          "end_time": "2018-06-01 19:31:04.843202+00:00",
          "hyperdrive_id": "5470",
          "metric": 0.963699996471405,
          "run_id": "tensorflow-hyperdrive_1527881081325_446_5470_a648dbea",
          "run_number": 7,
          "start_time": "2018-06-01 19:29:46.780201+00:00",
          "status": "Completed"
         },
         {
          "arguments": "azureml-setup/context_manager_injector.py -i OutputCollection:context_managers.RunHistory -i DaskOnBatch:context_managers.DaskOnBatch tf_mnist_train.py --minibatch_size 64 --learning_rate 0.001 --keep_probability 0.5 --output_dir outputs --num_iterations 1000 --learning_rate 7.14051833348127E-05 --keep_probability 0.472685817381368",
          "created_time": "2018-06-01 19:41:39.648602+00:00",
          "created_time_dt": "2018-06-01T19:41:39.648602",
          "duration": "0:03:06",
          "end_time": "2018-06-01 19:44:45.699811+00:00",
          "hyperdrive_id": "5489",
          "metric": 0.9613000154495239,
          "run_id": "tensorflow-hyperdrive_1527881081325_446_5489_38907948",
          "run_number": 15,
          "start_time": "2018-06-01 19:41:40.512369+00:00",
          "status": "Completed"
         },
         {
          "arguments": "azureml-setup/context_manager_injector.py -i OutputCollection:context_managers.RunHistory -i DaskOnBatch:context_managers.DaskOnBatch tf_mnist_train.py --minibatch_size 64 --learning_rate 0.001 --keep_probability 0.5 --output_dir outputs --num_iterations 1000 --learning_rate 0.00737747352627753 --keep_probability 0.205239625544216",
          "created_time": "2018-06-01 19:50:33.596963+00:00",
          "created_time_dt": "2018-06-01T19:50:33.596963",
          "duration": "0:01:51",
          "end_time": "2018-06-01 19:52:25.281499+00:00",
          "hyperdrive_id": "5497",
          "metric": 0.9581999778747559,
          "run_id": "tensorflow-hyperdrive_1527881081325_446_5497_8130025b",
          "run_number": 22,
          "start_time": "2018-06-01 19:50:34.456850+00:00",
          "status": "Completed"
         },
         {
          "arguments": "azureml-setup/context_manager_injector.py -i OutputCollection:context_managers.RunHistory -i DaskOnBatch:context_managers.DaskOnBatch tf_mnist_train.py --minibatch_size 64 --learning_rate 0.001 --keep_probability 0.5 --output_dir outputs --num_iterations 1000 --learning_rate 0.0211316024512922 --keep_probability 0.456008246140918",
          "created_time": "2018-06-01 19:50:31.581841+00:00",
          "created_time_dt": "2018-06-01T19:50:31.581841",
          "duration": "0:01:03",
          "end_time": "2018-06-01 19:51:35.272415+00:00",
          "hyperdrive_id": "5499",
          "metric": 0.9580000042915344,
          "run_id": "tensorflow-hyperdrive_1527881081325_446_5499_e0b5a73f",
          "run_number": 19,
          "start_time": "2018-06-01 19:50:32.786951+00:00",
          "status": "Completed"
         },
         {
          "arguments": "azureml-setup/context_manager_injector.py -i OutputCollection:context_managers.RunHistory -i DaskOnBatch:context_managers.DaskOnBatch tf_mnist_train.py --minibatch_size 64 --learning_rate 0.001 --keep_probability 0.5 --output_dir outputs --num_iterations 1000 --learning_rate 7.56451710371043E-05 --keep_probability 0.321364540919092",
          "created_time": "2018-06-01 19:50:33.421674+00:00",
          "created_time_dt": "2018-06-01T19:50:33.421674",
          "duration": "0:06:27",
          "end_time": "2018-06-01 19:57:00.982688+00:00",
          "hyperdrive_id": "5496",
          "metric": 0.9520000219345093,
          "run_id": "tensorflow-hyperdrive_1527881081325_446_5496_46a98c1f",
          "run_number": 21,
          "start_time": "2018-06-01 19:50:34.379782+00:00",
          "status": "Completed"
         },
         {
          "arguments": "azureml-setup/context_manager_injector.py -i OutputCollection:context_managers.RunHistory -i DaskOnBatch:context_managers.DaskOnBatch tf_mnist_train.py --minibatch_size 64 --learning_rate 0.001 --keep_probability 0.5 --output_dir outputs --num_iterations 1000 --learning_rate 6.86923046964849E-05 --keep_probability 0.229123758955098",
          "created_time": "2018-06-01 19:37:36.816510+00:00",
          "created_time_dt": "2018-06-01T19:37:36.816510",
          "duration": "0:01:12",
          "end_time": "2018-06-01 19:38:49.439465+00:00",
          "hyperdrive_id": "5477",
          "metric": 0.9483000040054321,
          "run_id": "tensorflow-hyperdrive_1527881081325_446_5477_c428bcf0",
          "run_number": 13,
          "start_time": "2018-06-01 19:37:42.971387+00:00",
          "status": "Completed"
         },
         {
          "arguments": "azureml-setup/context_manager_injector.py -i OutputCollection:context_managers.RunHistory -i DaskOnBatch:context_managers.DaskOnBatch tf_mnist_train.py --minibatch_size 64 --learning_rate 0.001 --keep_probability 0.5 --output_dir outputs --num_iterations 1000 --learning_rate 0.014609502490554 --keep_probability 0.480459935106515",
          "created_time": "2018-06-01 19:26:10.258955+00:00",
          "created_time_dt": "2018-06-01T19:26:10.258955",
          "duration": "0:02:41",
          "end_time": "2018-06-01 19:28:52.069673+00:00",
          "hyperdrive_id": "5458",
          "metric": 0.12110000103712082,
          "run_id": "tensorflow-hyperdrive_1527881081325_446_5458_3f73f0ac",
          "run_number": 5,
          "start_time": "2018-06-01 19:26:17.107379+00:00",
          "status": "Completed"
         },
         {
          "arguments": "azureml-setup/context_manager_injector.py -i OutputCollection:context_managers.RunHistory -i DaskOnBatch:context_managers.DaskOnBatch tf_mnist_train.py --minibatch_size 64 --learning_rate 0.001 --keep_probability 0.5 --output_dir outputs --num_iterations 1000 --learning_rate 0.0149932664638274 --keep_probability 0.284424630578217",
          "created_time": "2018-06-01 19:37:36.730460+00:00",
          "created_time_dt": "2018-06-01T19:37:36.730460",
          "duration": "0:01:08",
          "end_time": "2018-06-01 19:38:44.881339+00:00",
          "hyperdrive_id": "5478",
          "metric": 0.11349999904632568,
          "run_id": "tensorflow-hyperdrive_1527881081325_446_5478_24390740",
          "run_number": 12,
          "start_time": "2018-06-01 19:37:42.865594+00:00",
          "status": "Completed"
         }
        ],
        "children_metrics": {
         "categories": [
          0,
          1,
          2,
          3,
          4,
          5,
          6,
          7,
          8,
          9,
          10
         ],
         "metricName": "Accuracy",
         "series": [
          {
           "data": [
            0.11159999668598175,
            0.8949000239372253,
            0.9286999702453613,
            0.9498999714851379,
            0.9539999961853027,
            0.953499972820282,
            0.9606999754905701,
            0.9613000154495239,
            0.9549999833106995,
            0.9646999835968018,
            0.9581999778747559
           ],
           "mode": "lines",
           "name": 3,
           "run_id": 3,
           "stepped": false
          },
          {
           "data": [
            0.10109999775886536,
            0.8985999822616577,
            0.9424999952316284,
            0.9294999837875366,
            0.9545999765396118,
            0.9581000208854675,
            0.9616000056266785,
            0.9678999781608582,
            0.9661999940872192,
            0.9672999978065491,
            0.968500018119812
           ],
           "mode": "lines",
           "name": 4,
           "run_id": 4,
           "stepped": false
          },
          {
           "data": [
            0.08980000019073486,
            0.8791999816894531,
            0.9261000156402588,
            0.9426000118255615,
            0.9501000046730042,
            0.9546999931335449,
            0.9573000073432922,
            0.963699996471405,
            0.965499997138977,
            0.9684000015258789,
            0.9703999757766724
           ],
           "mode": "lines",
           "name": 6,
           "run_id": 6,
           "stepped": false
          },
          {
           "data": [
            0.12110000103712082,
            0.0982000008225441,
            0.11349999904632568,
            0.11349999904632568,
            0.10320000350475311,
            0.11349999904632568,
            0.11349999904632568,
            0.11349999904632568,
            0.11349999904632568,
            0.11349999904632568,
            0.11349999904632568
           ],
           "mode": "lines",
           "name": 5,
           "run_id": 5,
           "stepped": false
          },
          {
           "data": [
            0.14800000190734863,
            0.9146999716758728,
            0.9452999830245972,
            0.9506000280380249,
            0.9550999999046326,
            0.9584000110626221,
            0.9599000215530396,
            0.9621000289916992,
            0.964900016784668,
            0.9510999917984009,
            0.9624000191688538
           ],
           "mode": "lines",
           "name": 9,
           "run_id": 9,
           "stepped": false
          },
          {
           "data": [
            0.08749999850988388,
            0.855400025844574,
            0.911300003528595,
            0.9289000034332275,
            0.9394999742507935,
            0.9431999921798706,
            0.9509999752044678,
            0.9553999900817871,
            0.9555000066757202,
            0.963699996471405,
            0.9616000056266785
           ],
           "mode": "lines",
           "name": 7,
           "run_id": 7,
           "stepped": false
          },
          {
           "data": [
            0.11209999769926071,
            0.9466000199317932,
            0.9639000296592712,
            0.9722999930381775,
            0.9781000018119812,
            0.9800999760627747,
            0.9781000018119812,
            0.9814000129699707,
            0.9833999872207642,
            0.9836999773979187,
            0.9829000234603882
           ],
           "mode": "lines",
           "name": 10,
           "run_id": 10,
           "stepped": false
          },
          {
           "data": [
            0.0949999988079071,
            0.8953999876976013,
            0.942300021648407,
            0.9513999819755554,
            0.9617000222206116,
            0.9564999938011169,
            0.9689000248908997,
            0.9688000082969666,
            0.9704999923706055,
            0.9760000109672546,
            0.9764000177383423
           ],
           "mode": "lines",
           "name": 8,
           "run_id": 8,
           "stepped": false
          },
          {
           "data": [
            0.08950000256299973,
            0.9248999953269958,
            0.9545999765396118,
            0.9581000208854675,
            0.9559999704360962,
            0.9627000093460083,
            0.9642000198364258,
            0.9663000106811523,
            0.9585999846458435,
            0.963100016117096,
            0.9595999717712402
           ],
           "mode": "lines",
           "name": 14,
           "run_id": 14,
           "stepped": false
          },
          {
           "data": [
            0.09629999846220016,
            0.11349999904632568,
            0.10279999673366547,
            0.10090000182390213,
            0.11349999904632568,
            0.11349999904632568,
            0.11349999904632568,
            0.10279999673366547,
            0.10279999673366547,
            0.11349999904632568,
            0.11349999904632568
           ],
           "mode": "lines",
           "name": 12,
           "run_id": 12,
           "stepped": false
          },
          {
           "data": [
            0.13899999856948853,
            0.7547000050544739,
            0.8593000173568726,
            0.8981999754905701,
            0.9186999797821045,
            0.9254999756813049,
            0.934499979019165,
            0.9377999901771545,
            0.9431999921798706,
            0.9437999725341797,
            0.9483000040054321
           ],
           "mode": "lines",
           "name": 13,
           "run_id": 13,
           "stepped": false
          },
          {
           "data": [
            0.10440000146627426,
            0.9383000135421753,
            0.9538999795913696,
            0.9664000272750854,
            0.9717000126838684,
            0.9760000109672546,
            0.9732999801635742,
            0.9779000282287598,
            0.9817000031471252,
            0.9818000197410583,
            0.9799000024795532
           ],
           "mode": "lines",
           "name": 11,
           "run_id": 11,
           "stepped": false
          },
          {
           "data": [
            0.08869999647140503,
            0.9404000043869019,
            0.9574000239372253,
            0.9700999855995178,
            0.9715999960899353,
            0.979200005531311,
            0.9797000288963318,
            0.9812999963760376,
            0.9797999858856201,
            0.9817000031471252,
            0.9842000007629395
           ],
           "mode": "lines",
           "name": 16,
           "run_id": 16,
           "stepped": false
          },
          {
           "data": [
            0.12210000306367874,
            0.917900025844574,
            0.9437999725341797,
            0.95660001039505,
            0.9646000266075134,
            0.9692000150680542,
            0.9707000255584717,
            0.9735999703407288,
            0.9781000018119812,
            0.9775999784469604,
            0.9785000085830688
           ],
           "mode": "lines",
           "name": 18,
           "run_id": 18,
           "stepped": false
          },
          {
           "data": [
            0.11159999668598175,
            0.8270000219345093,
            0.9024999737739563,
            0.9175999760627747,
            0.9323999881744385,
            0.9368000030517578,
            0.9431999921798706,
            0.9506000280380249,
            0.9526000022888184,
            0.9584000110626221,
            0.9613000154495239
           ],
           "mode": "lines",
           "name": 15,
           "run_id": 15,
           "stepped": false
          },
          {
           "data": [
            0.16419999301433563,
            0.9247999787330627,
            0.9431999921798706,
            0.9599000215530396,
            0.9674999713897705,
            0.9695000052452087,
            0.9765999913215637,
            0.9763000011444092,
            0.9779999852180481,
            0.9812999963760376,
            0.9789000153541565
           ],
           "mode": "lines",
           "name": 17,
           "run_id": 17,
           "stepped": false
          },
          {
           "data": [
            0.1160999983549118,
            0.9366000294685364,
            0.9473000168800354,
            0.9552000164985657,
            0.95660001039505,
            0.9465000033378601,
            0.9575999975204468,
            0.9580000042915344,
            0.949999988079071,
            0.9520999789237976,
            0.9567999839782715
           ],
           "mode": "lines",
           "name": 19,
           "run_id": 19,
           "stepped": false
          },
          {
           "data": [
            0.0949999988079071,
            0.8639000058174133,
            0.9139999747276306,
            0.9171000123023987,
            0.930899977684021,
            0.9441999793052673,
            0.9545999765396118,
            0.9560999870300293,
            0.9581999778747559,
            0.9539999961853027,
            0.9559000134468079
           ],
           "mode": "lines",
           "name": 22,
           "run_id": 22,
           "stepped": false
          },
          {
           "data": [
            0.11500000208616257,
            0.789900004863739,
            0.8838000297546387,
            0.9072999954223633,
            0.9203000068664551,
            0.9312000274658203,
            0.9319000244140625,
            0.9434000253677368,
            0.9470999836921692,
            0.9477999806404114,
            0.9520000219345093
           ],
           "mode": "lines",
           "name": 21,
           "run_id": 21,
           "stepped": false
          },
          {
           "data": [
            0.052000001072883606,
            0.9318000078201294,
            0.9584000110626221,
            0.9639999866485596,
            0.9710999727249146,
            0.9746999740600586,
            0.9768999814987183,
            0.9822999835014343,
            0.978600025177002,
            0.9801999926567078,
            0.9828000068664551
           ],
           "mode": "lines",
           "name": 20,
           "run_id": 20,
           "stepped": false
          }
         ],
         "showLegend": true
        },
        "run_id": "tensorflow-hyperdrive_1527881081325",
        "run_logs": "",
        "run_metrics": [],
        "run_properties": {
         "additional_properties": {},
         "created_utc": "2018-06-01T19:24:41.846775",
         "description": null,
         "end_time_utc": "2018-06-01T20:05:15.398835",
         "experiment_id": "54fc7a8b-21a4-4a10-8931-bd36c717c9b7",
         "heartbeat_enabled": false,
         "hidden": false,
         "name": "tensorflow-hyperdrive",
         "parent_run_id": null,
         "properties": {
          "all_jobs_generated": "true",
          "azureml.runsource": "hyperdrive",
          "cancellation_requested": "false",
          "generator_config": "{\"name\": \"RANDOM\", \"parameter_space\": {\"learning_rate\": [\"loguniform\", [-10, -3]], \"keep_probability\": [\"uniform\", [0.5, 0.1]]}}",
          "is_hyperdrive_run": "true",
          "max_concurrent_jobs": "4",
          "max_duration_minutes": "43200",
          "max_total_jobs": "20",
          "policy_config": "{\"name\": \"BANDIT\", \"properties\": {\"slack_factor\": 0.15, \"evaluation_interval\": 2, \"delay_evaluation\": 0}}",
          "primary_metric_config": "{\"name\": \"Accuracy\", \"goal\": \"maximize\"}",
          "runTemplate": "HyperDrive"
         },
         "root_run_id": "tensorflow-hyperdrive_1527881081325",
         "run_id": "tensorflow-hyperdrive_1527881081325",
         "run_number": 2,
         "script_name": "tf_mnist_train.py",
         "start_time_utc": null,
         "status": "Completed",
         "tags": {},
         "target": "gpucluster",
         "token": null,
         "token_expiry_time_utc": null,
         "user_id": "fffc1c66-275f-4935-bb04-70a760c82fda"
        },
        "status": "Completed",
        "workbench_run_details_uri": "https://mlworkbench.azureml-test.net/home/%2Fsubscriptions%2Ffac34303-435d-4486-8c3f-7094d82a0b60%2FresourceGroups%2Faml-notebooks%2Fproviders%2FMicrosoft.MachineLearningServices%2Fworkspaces%2Fhaieastus2ws3/projects/tensorflow-hyperdrive/run-history/run-details/tensorflow-hyperdrive_1527881081325?type=HyperDrive"
       }
      }
     }
    },
    "version_major": 2,
    "version_minor": 0
   }
  }
 },
 "nbformat": 4,
 "nbformat_minor": 1
}
