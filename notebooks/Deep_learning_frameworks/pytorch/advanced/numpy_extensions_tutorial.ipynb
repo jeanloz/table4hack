{
  "metadata": {
    "language_info": {
      "version": "3.5.5",
      "name": "python",
      "pygments_lexer": "ipython3",
      "file_extension": ".py",
      "mimetype": "text/x-python",
      "nbconvert_exporter": "python",
      "codemirror_mode": {
        "version": 3,
        "name": "ipython"
      }
    },
    "kernelspec": {
      "language": "python",
      "name": "python3",
      "display_name": "Python 3"
    }
  },
  "nbformat_minor": 0,
  "nbformat": 4,
  "cells": [
    {
      "outputs": [],
      "metadata": {
        "collapsed": false
      },
      "source": [
        "%matplotlib inline"
      ],
      "execution_count": null,
      "cell_type": "code"
    },
    {
      "source": [
        "\nCreating extensions using numpy and scipy\n=========================================\n**Author**: `Adam Paszke <https://github.com/apaszke>`_\n\n**Updated by**: `Adam Dziedzic` [https://github.com/adam-dziedzic](https://github.com/adam-dziedzic)\n\nIn this tutorial, we shall go through two tasks:\n\n1. Create a neural network layer with no parameters.\n\n    -  This calls into **numpy** as part of its implementation\n\n2. Create a neural network layer that has learnable weights\n\n    -  This calls into **SciPy** as part of its implementation\n\n"
      ],
      "metadata": {},
      "cell_type": "markdown"
    },
    {
      "outputs": [],
      "metadata": {
        "collapsed": false
      },
      "source": [
        "import torch\nfrom torch.autograd import Function"
      ],
      "execution_count": null,
      "cell_type": "code"
    },
    {
      "source": [
        "Parameter-less example\n----------------------\n\nThis layer doesn\u2019t particularly do anything useful or mathematically\ncorrect.\n\nIt is aptly named BadFFTFunction\n\n**Layer Implementation**\n\n"
      ],
      "metadata": {},
      "cell_type": "markdown"
    },
    {
      "outputs": [],
      "metadata": {
        "collapsed": false
      },
      "source": [
        "from numpy.fft import rfft2, irfft2\n\n\nclass BadFFTFunction(Function):\n\n    def forward(self, input):\n        numpy_input = input.detach().numpy()\n        result = abs(rfft2(numpy_input))\n        return input.new(result)\n\n    def backward(self, grad_output):\n        numpy_go = grad_output.numpy()\n        result = irfft2(numpy_go)\n        return grad_output.new(result)\n\n# since this layer does not have any parameters, we can\n# simply declare this as a function, rather than as an nn.Module class\n\n\ndef incorrect_fft(input):\n    return BadFFTFunction()(input)"
      ],
      "execution_count": null,
      "cell_type": "code"
    },
    {
      "source": [
        "**Example usage of the created layer:**\n\n"
      ],
      "metadata": {},
      "cell_type": "markdown"
    },
    {
      "outputs": [],
      "metadata": {
        "collapsed": false
      },
      "source": [
        "input = torch.randn(8, 8, requires_grad=True)\nresult = incorrect_fft(input)\nprint(result)\nresult.backward(torch.randn(result.size()))\nprint(input)"
      ],
      "execution_count": null,
      "cell_type": "code"
    },
    {
      "source": [
        "Parametrized example\n--------------------\n\nIn deep learning literature, this layer is confusingly referred\nto as convolution while the actual operation is cross-correlation\n(the only difference is that filter is flipped for convolution,\nwhich is not the case for cross-correlation).\n\nImplementation of a layer with learnable weights, where cross-correlation\nhas a filter (kernel) that represents weights.\n\nThe backward pass computes the gradient wrt the input and the gradient wrt the filter.\n\n"
      ],
      "metadata": {},
      "cell_type": "markdown"
    },
    {
      "outputs": [],
      "metadata": {
        "collapsed": false
      },
      "source": [
        "from numpy import flip\nimport numpy as np\nfrom scipy.signal import convolve2d, correlate2d\nfrom torch.nn.modules.module import Module\nfrom torch.nn.parameter import Parameter\n\n\nclass ScipyConv2dFunction(Function):\n    @staticmethod\n    def forward(ctx, input, filter, bias):\n        # detach so we can cast to NumPy\n        input, filter, bias = input.detach(), filter.detach(), bias.detach()\n        result = correlate2d(input.numpy(), filter.numpy(), mode='valid')\n        result += bias.numpy()\n        ctx.save_for_backward(input, filter, bias)\n        return torch.as_tensor(result, dtype=input.dtype)\n\n    @staticmethod\n    def backward(ctx, grad_output):\n        grad_output = grad_output.detach()\n        input, filter, bias = ctx.saved_tensors\n        grad_output = grad_output.numpy()\n        grad_bias = np.sum(grad_output, keepdims=True)\n        grad_input = convolve2d(grad_output, filter.numpy(), mode='full')\n        # the previous line can be expressed equivalently as:\n        # grad_input = correlate2d(grad_output, flip(flip(filter.numpy(), axis=0), axis=1), mode='full')\n        grad_filter = correlate2d(input.numpy(), grad_output, mode='valid')\n        return torch.as_tensor(grad_input, dtype=input.dtype), torch.as_tensor(grad_filter, dtype=filter.dtype), torch.as_tensor(grad_bias, dtype=bias.dtype)\n\n\nclass ScipyConv2d(Module):\n    def __init__(self, filter_width, filter_height):\n        super(ScipyConv2d, self).__init__()\n        self.filter = Parameter(torch.randn(filter_width, filter_height))\n        self.bias = Parameter(torch.randn(1, 1))\n\n    def forward(self, input):\n        return ScipyConv2dFunction.apply(input, self.filter, self.bias)"
      ],
      "execution_count": null,
      "cell_type": "code"
    },
    {
      "source": [
        "**Example usage:**\n\n"
      ],
      "metadata": {},
      "cell_type": "markdown"
    },
    {
      "outputs": [],
      "metadata": {
        "collapsed": false
      },
      "source": [
        "module = ScipyConv2d(3, 3)\nprint(\"Filter and bias: \", list(module.parameters()))\ninput = torch.randn(10, 10, requires_grad=True)\noutput = module(input)\nprint(\"Output from the convolution: \", output)\noutput.backward(torch.randn(8, 8))\nprint(\"Gradient for the input map: \", input.grad)"
      ],
      "execution_count": null,
      "cell_type": "code"
    },
    {
      "source": [
        "**Check the gradients:**\n\n"
      ],
      "metadata": {},
      "cell_type": "markdown"
    },
    {
      "outputs": [],
      "metadata": {
        "collapsed": false
      },
      "source": [
        "from torch.autograd.gradcheck import gradcheck\n\nmoduleConv = ScipyConv2d(3, 3)\n\ninput = [torch.randn(20, 20, dtype=torch.double, requires_grad=True)]\ntest = gradcheck(moduleConv, input, eps=1e-6, atol=1e-4)\nprint(\"Are the gradients correct: \", test)"
      ],
      "execution_count": null,
      "cell_type": "code"
    }
  ]
}